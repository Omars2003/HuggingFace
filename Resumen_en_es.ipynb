{
  "cells": [
    {
      "cell_type": "markdown",
      "metadata": {
        "id": "view-in-github",
        "colab_type": "text"
      },
      "source": [
        "<a href=\"https://colab.research.google.com/github/Omars2003/HuggingFace/blob/main/Resumen_en_es.ipynb\" target=\"_parent\"><img src=\"https://colab.research.google.com/assets/colab-badge.svg\" alt=\"Open In Colab\"/></a>"
      ]
    },
    {
      "cell_type": "code",
      "execution_count": null,
      "metadata": {
        "id": "hBfZOGBQ__84"
      },
      "outputs": [],
      "source": [
        "!pip install transformers"
      ]
    },
    {
      "cell_type": "code",
      "source": [
        "!pip install transformers[sentencepiece]"
      ],
      "metadata": {
        "id": "Pwt26Rjb3DtG"
      },
      "execution_count": null,
      "outputs": []
    },
    {
      "cell_type": "code",
      "execution_count": null,
      "metadata": {
        "id": "gPa8DcBYAG-Q"
      },
      "outputs": [],
      "source": [
        "!pip install datasets #para este modelo ocuparemos Amazon_reviews we only will use english and spanish"
      ]
    },
    {
      "cell_type": "code",
      "execution_count": 5,
      "metadata": {
        "id": "E0nXOdiMA32p"
      },
      "outputs": [],
      "source": [
        "from datasets import load_dataset\n",
        "\n"
      ]
    },
    {
      "cell_type": "code",
      "execution_count": null,
      "metadata": {
        "id": "X2NkiPdTBC1g"
      },
      "outputs": [],
      "source": [
        "spanish_dataset = load_dataset(\"amazon_reviews_multi\", \"es\")\n",
        "english_dataset = load_dataset(\"amazon_reviews_multi\", \"en\")\n"
      ]
    },
    {
      "cell_type": "code",
      "source": [
        "english_dataset "
      ],
      "metadata": {
        "id": "o2di6np4CZ2S"
      },
      "execution_count": null,
      "outputs": []
    },
    {
      "cell_type": "markdown",
      "source": [
        "we are interested in is contained in the review_body and review_title columns"
      ],
      "metadata": {
        "id": "g7cGSuT2FAlJ"
      }
    },
    {
      "cell_type": "code",
      "source": [
        "def muestra_ejemplos(dataset, num_samples=4, seed=50):#seed=un grupo de 50\n",
        "    ejemplos = dataset[\"train\"].shuffle(seed=seed).select(range(num_samples)) #shuffle funtion cambia el orden \n",
        "    for example in ejemplos:\n",
        "        print(f\"\\n'>> Title: {example['review_title']}'\")\n",
        "        print(f\"'>> Review: {example['review_body']}'\")\n",
        "\n",
        "\n",
        "muestra_ejemplos(english_dataset)\n",
        "muestra_ejemplos(spanish_dataset)"
      ],
      "metadata": {
        "colab": {
          "base_uri": "https://localhost:8080/"
        },
        "id": "R7CbOENZGN5H",
        "outputId": "938cd8f9-e61d-44d9-c781-82bf3101389e"
      },
      "execution_count": 7,
      "outputs": [
        {
          "output_type": "stream",
          "name": "stdout",
          "text": [
            "\n",
            "'>> Title: Dont order in winter'\n",
            "'>> Review: I thought these would look cool and they arrived in OK condition. Here is where I have issues being a first time cactus buyer: these should have come potted at this price / Seller should not ship in the coldest parts of winter. They arrived looking a little roughed up and shortly died because they froze during delivery or on my front porch while I was at work. Probably a good product if it didn't freeze.'\n",
            "\n",
            "'>> Title: Runs big in my opinion'\n",
            "'>> Review: Haven't looked into return policy but would return as the size is too big. It works as it says and you will sweat in your mid section. Great concept just wish I could return for smaller size.'\n",
            "\n",
            "'>> Title: Doesn't work for iPhone 8'\n",
            "'>> Review: This does not work for an iPhone 8.'\n",
            "\n",
            "'>> Title: Unless you have darker very tan skin I recommend the translucent (white) color instead of cool beige but ...'\n",
            "'>> Review: Unless you have darker very tan skin I recommend the translucent (white) color instead of cool beige but works well as far as makeup setting.'\n",
            "\n",
            "'>> Title: Tapones'\n",
            "'>> Review: Están bien pero falta seguridad,'\n",
            "\n",
            "'>> Title: Precio'\n",
            "'>> Review: No pidas más por las características y el precio. Para una persona mayor, es suficiente y para alguien que le da un pequeño uso. Es lento Pero cumple su función.'\n",
            "\n",
            "'>> Title: Mala manipulación'\n",
            "'>> Review: El material está muy duro, cuesta moldear. Una vez los pekes consiguen hacer una figura, no queda sólida al cabo del tiempo como el \"slime\", por lo que al final se deforma.'\n",
            "\n",
            "'>> Title: Bien pero con algún \"pero\"'\n",
            "'>> Review: Al verlas me desilusioné, porque las veía muy básicas y de poca calidad, pero al ponerlas en el reloj ha cambiado y mejorado la presión que tuve. Quedan bastante bien al ponerlas en el reloj, se adaptan perfectamente y cumplen su función; aunque no todos los colores quedan bien y dificultan usar la rueda del reloj.'\n"
          ]
        }
      ]
    },
    {
      "cell_type": "markdown",
      "source": [
        " Training a summarization model on all 400,000 reviews would take far too long on a single GPU, so instead we’ll focus on generating summaries for a single domain of products."
      ],
      "metadata": {
        "id": "v_ugCtPXIBC1"
      }
    },
    {
      "cell_type": "markdown",
      "source": [
        "To get a feel for what domains we can choose from, let’s convert english_dataset to a pandas.DataFrame and compute the number of reviews per product category:"
      ],
      "metadata": {
        "id": "_48qEfArIHKE"
      }
    },
    {
      "cell_type": "code",
      "source": [
        "english_dataset.set_format(\"arrow\") #arrow or #pandas\n",
        "english_df = english_dataset[\"train\"][:]\n",
        "# Show counts for top 20 products\n",
        "english_df[\"product_category\"].value_counts()[:20]"
      ],
      "metadata": {
        "id": "5562VirVIHv9"
      },
      "execution_count": null,
      "outputs": []
    },
    {
      "cell_type": "code",
      "source": [
        ""
      ],
      "metadata": {
        "id": "I8o_mxnqKAi3"
      },
      "execution_count": null,
      "outputs": []
    },
    {
      "cell_type": "markdown",
      "source": [
        "we are going to use the books and e-books reviews, so we need to separate their reviews.\n",
        "\n",
        "Now when we apply this function to english_dataset and spanish_dataset, the result will contain just those rows involving the book categories. Before applying the filter, let’s switch the format of english_dataset from \"pandas\" back to \"arrow\":"
      ],
      "metadata": {
        "id": "_qBjxpOqKBIm"
      }
    },
    {
      "cell_type": "code",
      "source": [
        "def filtros_books(example):\n",
        "    return (\n",
        "        example[\"product_category\"] == \"book\"\n",
        "        or example[\"product_category\"] == \"digital_ebook_purchase\"\n",
        "    )"
      ],
      "metadata": {
        "id": "a307Y0loKIoH"
      },
      "execution_count": 9,
      "outputs": []
    },
    {
      "cell_type": "code",
      "source": [
        "english_dataset.reset_format()\n",
        "spanish_dataset.reset_format()"
      ],
      "metadata": {
        "id": "Wlp-nGbSLrkP"
      },
      "execution_count": 10,
      "outputs": []
    },
    {
      "cell_type": "code",
      "source": [
        "spanish_books = spanish_dataset.filter(filtros_books)\n",
        "english_books = english_dataset.filter(filtros_books)\n",
        "muestra_ejemplos(english_books)\n",
        "muestra_ejemplos(spanish_books)"
      ],
      "metadata": {
        "id": "u44I_agFKmnn"
      },
      "execution_count": null,
      "outputs": []
    },
    {
      "cell_type": "markdown",
      "source": [
        "WE HAVE a last step about data and itscombining the English and Spanish reviews as a single DatasetDict objec"
      ],
      "metadata": {
        "id": "d-4jm5pTMl8f"
      }
    },
    {
      "cell_type": "markdown",
      "source": [
        "Concatenate_datasets() function that (as the name suggests) will stack two Dataset objects on top of each other. So, to create our bilingual dataset, we’ll loop over each split, concatenate the datasets for that split, and shuffle the result to ensure our model doesn’t overfit to a single language:"
      ],
      "metadata": {
        "id": "-mqSXcqtNHwj"
      }
    },
    {
      "cell_type": "code",
      "source": [
        "from datasets import concatenate_datasets, DatasetDict\n",
        "\n",
        "books_dataset = DatasetDict()"
      ],
      "metadata": {
        "id": "_Pnn1OzdNIdq"
      },
      "execution_count": 12,
      "outputs": []
    },
    {
      "cell_type": "code",
      "source": [
        "for split in english_books.keys():\n",
        "    books_dataset[split] = concatenate_datasets(\n",
        "        [english_books[split], spanish_books[split]]\n",
        "    )\n",
        "    books_dataset[split] = books_dataset[split].shuffle(seed=50)"
      ],
      "metadata": {
        "id": "xj7QoldPwXJ2"
      },
      "execution_count": 13,
      "outputs": []
    },
    {
      "cell_type": "code",
      "source": [
        "muestra_ejemplos(books_dataset)"
      ],
      "metadata": {
        "colab": {
          "base_uri": "https://localhost:8080/"
        },
        "id": "kM_oi7ZZwbEE",
        "outputId": "92843d81-2df8-4e0c-d713-5848465a57ac"
      },
      "execution_count": 14,
      "outputs": [
        {
          "output_type": "stream",
          "name": "stdout",
          "text": [
            "\n",
            "'>> Title: Guía de luchadores exclusivamente'\n",
            "'>> Review: Cuidado al comprar esta guía, puede no ser lo que imaginas. Toca exclusivamente los personajes, no habla ni de los entornos, ni del modo aventura, ni de estrategias con los espíritus... nada de nada, solo personajes. Lo que cuenta, lo cuenta bien, pero reitero que hay áreas enormes del juego que no toca. Para ser una guía oficial, es muy escasa.'\n",
            "\n",
            "'>> Title: Useful.'\n",
            "'>> Review: Great book, worth buying it.'\n",
            "\n",
            "'>> Title: Fallo de amazon'\n",
            "'>> Review: No me ha llegado. Paquete perdido. He pedido la anulación del pedido y no se nada todavía.'\n",
            "\n",
            "'>> Title: Fácil lectura'\n",
            "'>> Review: Mario ha conseguido mediante este libro basar en ejemplos y en reflexiones abiertas explicar de una manera simple las diferentes formas y retos que un líder debe conocer para mejorar su inteligencia emocional.'\n"
          ]
        }
      ]
    },
    {
      "cell_type": "markdown",
      "source": [
        "para task como resumenes es importante checar que los titulos  las reseñas tengan mas d 2 dos palabras ya que esto puede afectar el task de un resumen dando como output pocas palabras ya que es asi como se esta entrenando los datos"
      ],
      "metadata": {
        "id": "VM1m2nWIw8V9"
      }
    },
    {
      "cell_type": "markdown",
      "source": [
        "por lo que vamos a filtrar los textos, para quitar los cortos y que demeos mejores resumenes!!!"
      ],
      "metadata": {
        "id": "E_p2I9R5xPMf"
      }
    },
    {
      "cell_type": "code",
      "source": [
        "books_dataset = books_dataset.filter(lambda x: len(x[\"review_title\"].split()) > 2)"
      ],
      "metadata": {
        "colab": {
          "base_uri": "https://localhost:8080/",
          "height": 113,
          "referenced_widgets": [
            "8b7176f6bbd9455e85884ec7da5ca083",
            "bdfba2118940429eb8a88ed6268ae06e",
            "66d07a83b3b247289a62543a6c14c18b",
            "bbe18d7cf8e348b3b911043602d6d97d",
            "c0d8f04acc914a8e92499cb0cdb75667",
            "259e7bc0ee91450c9aab23b7400dbeab",
            "e50eb97848904b66bfc9ec0d8bb7793e",
            "57db3536484142ef8a2bbabc72cb9ff3",
            "c1f8e5da9df945db95edb7956efd4232",
            "4ccb6975e98e47c1b70df37560839061",
            "60eeaf5b9cde496b96dfa07f61a2efbd",
            "5a45cce52b8c4f8480ea669d50436e72",
            "195513f35ec943879a7c873bfe14252d",
            "e8ef7f7005994110a56e1363b1e7150e",
            "31c6baf73ad54ea793f3080ec9ef91de",
            "556af5a04feb4e7f9ed2efaf81cf9840",
            "1d2e5cdb411b43a791ad0e724c1892a3",
            "244b1e8980b04772a916ab2ab53f3d27",
            "514444c54797486981d382bf9f079463",
            "f049f7cea22a4ce79e4acdec2ac2fd76",
            "0e19813ea8b2467d99879f1083ceee59",
            "ca5c2b886f264266a651349be0aa28ed",
            "72a9ab4e35054194a5c37c3e4d9ad24a",
            "a92a34f5150a4c76912fa6ab3913e588",
            "6d90f13cb31741a1957d72afafb8b728",
            "c7deca7253e9468c901fcdfd17330a81",
            "6a01158f7c214c47b3cf393c0f123a73",
            "579037d083eb49339a16258b797b9d7c",
            "b3d43ad50b2d48f998800c14df0cfd77",
            "89c2330472194fd9be1054598bbda85f",
            "6e401062d518434ea72678cf694b4151",
            "326cdb7c9d284424a84bf6f2fc0a2a76",
            "3c146b97cc094da08e22f426d9f1af96"
          ]
        },
        "id": "1r8kPTVZxI61",
        "outputId": "8ba23f71-d287-4b14-c4a0-cd4863042266"
      },
      "execution_count": 15,
      "outputs": [
        {
          "output_type": "display_data",
          "data": {
            "text/plain": [
              "  0%|          | 0/18 [00:00<?, ?ba/s]"
            ],
            "application/vnd.jupyter.widget-view+json": {
              "version_major": 2,
              "version_minor": 0,
              "model_id": "8b7176f6bbd9455e85884ec7da5ca083"
            }
          },
          "metadata": {}
        },
        {
          "output_type": "display_data",
          "data": {
            "text/plain": [
              "  0%|          | 0/1 [00:00<?, ?ba/s]"
            ],
            "application/vnd.jupyter.widget-view+json": {
              "version_major": 2,
              "version_minor": 0,
              "model_id": "5a45cce52b8c4f8480ea669d50436e72"
            }
          },
          "metadata": {}
        },
        {
          "output_type": "display_data",
          "data": {
            "text/plain": [
              "  0%|          | 0/1 [00:00<?, ?ba/s]"
            ],
            "application/vnd.jupyter.widget-view+json": {
              "version_major": 2,
              "version_minor": 0,
              "model_id": "72a9ab4e35054194a5c37c3e4d9ad24a"
            }
          },
          "metadata": {}
        }
      ]
    },
    {
      "cell_type": "markdown",
      "source": [
        "APARTIR DE AQUI YA TENEMOS LOS DATOS SEPARADOS DE LA MANERA QUE QUEREMOS Y QUE VA A SER MAS EFICAZ PARA ASI PODER EMEPZAR A USAR UN MODELO PARA NUESTRO TASK !!!\n",
        "WUUUUUU\n",
        "\n",
        "Transformer models for summarization adopt the encoder-decoder architecture\n",
        "We’ll focus on mT5, an interesting architecture based on T5 that was pretrained in a text-to-text framework. In T5, every NLP task is formulated in terms of a prompt prefix like summarize: which conditions the model to adapt the generated text to the prompt. As shown in the figure below, this makes T5 extremely versatile, as you can solve many tasks with a single model!![T5 model .jpg](data:image/jpeg;base64,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)"
      ],
      "metadata": {
        "id": "GnDDJNpVyqh3"
      }
    },
    {
      "cell_type": "code",
      "source": [
        "from transformers import AutoTokenizer\n",
        "\n",
        "model_checkpoint = \"google/mt5-small\"\n",
        "tokenizer = AutoTokenizer.from_pretrained(model_checkpoint)"
      ],
      "metadata": {
        "colab": {
          "base_uri": "https://localhost:8080/",
          "height": 200,
          "referenced_widgets": [
            "57160d78d41b4f0b94518856519caec8",
            "8964ffebb1854b84b4c3e2c6fe48b50a",
            "39d5794bf93745a483e76d956f02de48",
            "e67b0bf531e544158b72653a6c391668",
            "b45fcd6c29ca4cb7ad39f69746289867",
            "f0f508280aaa45669a97904aa96eebe3",
            "ce78c9f8d0c84fc393aa192e749fe50f",
            "278b3a72296b4609816e2aee935277eb",
            "7b43056008fc48989080b5f108cf8ff9",
            "d74446a8ec544b7c9033e00d0cd75df3",
            "42df5c46ff554b73a5522ced357f1256",
            "3f7aef1633be4ee2825f6c4b0b979dd4",
            "a7a8cf5e38c54b3db45691cb617941e2",
            "b3adeaae755240e9886ad964f208c037",
            "e24a376783f24abbbe9a03e361830ac4",
            "7752f3b8e0fa46a1b1daf8606dc17c10",
            "32f5085da2694f4d8cf91c7c47000d14",
            "8d4e7953156444b0b878d46350ef9584",
            "0dc0cf7a6281451498363f3aab827c91",
            "21a6947ce08a4cc886517a0a19e8838f",
            "5800760d1a2b404d8e73163a163caca3",
            "4dba821111d24ac0a5475ef2a1a5a77c",
            "fa7090bf648f4b86a017a58b56a01470",
            "ed5721422c224fbcb4fbacd4a5a5dba7",
            "20f3ab1759f745c195b9a1857d4a02c5",
            "d4802b91d558470685f4500937179c5d",
            "4a156241340b471b8d4acc20215ae2e2",
            "fac10192b6f7445092434a123adffcf7",
            "be2f8b2866cc4a79990a9c2d5d20b9fb",
            "46edc396574040d3952decfcd35a3595",
            "c1b4ceed7c4543ae83a33fdabe9553fc",
            "65022c28b6fc4cb398f2abf6aa7993b6",
            "7ca39e02f904496db9015f4ea050336a",
            "f4e5de40f4b946a082acd0ffb1583c30",
            "c2e3d9714c4d45a3a251ae38d7141191",
            "416329ec5ff34990aa9408137b5baf82",
            "0dff4820638b47199bd1dfc407a78942",
            "d85a3ce2330142eebe0ba57cc6ed279d",
            "7ef609dba421421483f3546cb12b1c16",
            "8a518c4d9a884c389ba40a2e2e79a713",
            "e2a4bfa2e8f948548620a1483872eaf4",
            "b4f392267d264db39ed8a01c7041b2b5",
            "efd04738870d4ee281045f90766d25b4",
            "1d912dc6c09a4775b39bd0fed3ef549a"
          ]
        },
        "id": "llj21PF16ukV",
        "outputId": "70f68609-fd34-4873-9895-4da4ab995b89"
      },
      "execution_count": 16,
      "outputs": [
        {
          "output_type": "display_data",
          "data": {
            "text/plain": [
              "Downloading tokenizer_config.json:   0%|          | 0.00/82.0 [00:00<?, ?B/s]"
            ],
            "application/vnd.jupyter.widget-view+json": {
              "version_major": 2,
              "version_minor": 0,
              "model_id": "57160d78d41b4f0b94518856519caec8"
            }
          },
          "metadata": {}
        },
        {
          "output_type": "display_data",
          "data": {
            "text/plain": [
              "Downloading config.json:   0%|          | 0.00/553 [00:00<?, ?B/s]"
            ],
            "application/vnd.jupyter.widget-view+json": {
              "version_major": 2,
              "version_minor": 0,
              "model_id": "3f7aef1633be4ee2825f6c4b0b979dd4"
            }
          },
          "metadata": {}
        },
        {
          "output_type": "display_data",
          "data": {
            "text/plain": [
              "Downloading spiece.model:   0%|          | 0.00/4.11M [00:00<?, ?B/s]"
            ],
            "application/vnd.jupyter.widget-view+json": {
              "version_major": 2,
              "version_minor": 0,
              "model_id": "fa7090bf648f4b86a017a58b56a01470"
            }
          },
          "metadata": {}
        },
        {
          "output_type": "display_data",
          "data": {
            "text/plain": [
              "Downloading special_tokens_map.json:   0%|          | 0.00/99.0 [00:00<?, ?B/s]"
            ],
            "application/vnd.jupyter.widget-view+json": {
              "version_major": 2,
              "version_minor": 0,
              "model_id": "f4e5de40f4b946a082acd0ffb1583c30"
            }
          },
          "metadata": {}
        },
        {
          "output_type": "stream",
          "name": "stderr",
          "text": [
            "/usr/local/lib/python3.7/dist-packages/transformers/convert_slow_tokenizer.py:435: UserWarning: The sentencepiece tokenizer that you are converting to a fast tokenizer uses the byte fallback option which is not implemented in the fast tokenizers. In practice this means that the fast version of the tokenizer can produce unknown tokens whereas the sentencepiece version would have converted these unknown tokens into a sequence of byte tokens matching the original piece of text.\n",
            "  \"The sentencepiece tokenizer that you are converting to a fast tokenizer uses the byte fallback option\"\n"
          ]
        }
      ]
    },
    {
      "cell_type": "code",
      "source": [
        "input=tokenizer(\"I have finished How the world really works\")\n",
        "input\n"
      ],
      "metadata": {
        "colab": {
          "base_uri": "https://localhost:8080/"
        },
        "id": "TpQrO3pH8Rl_",
        "outputId": "dcdc54d5-f6f6-4456-9e45-72bec0f0fb1a"
      },
      "execution_count": 17,
      "outputs": [
        {
          "output_type": "execute_result",
          "data": {
            "text/plain": [
              "{'input_ids': [336, 783, 259, 47149, 5100, 287, 4836, 259, 4940, 19514, 1], 'attention_mask': [1, 1, 1, 1, 1, 1, 1, 1, 1, 1, 1]}"
            ]
          },
          "metadata": {},
          "execution_count": 17
        }
      ]
    },
    {
      "cell_type": "code",
      "source": [
        "tokenizer.convert_ids_to_tokens(input.input_ids)"
      ],
      "metadata": {
        "colab": {
          "base_uri": "https://localhost:8080/"
        },
        "id": "7R2PQN07AT_1",
        "outputId": "3fde65ff-449e-4290-bda3-e2b8c312677e"
      },
      "execution_count": 18,
      "outputs": [
        {
          "output_type": "execute_result",
          "data": {
            "text/plain": [
              "['▁I',\n",
              " '▁have',\n",
              " '▁',\n",
              " 'finished',\n",
              " '▁How',\n",
              " '▁the',\n",
              " '▁world',\n",
              " '▁',\n",
              " 'really',\n",
              " '▁works',\n",
              " '</s>']"
            ]
          },
          "metadata": {},
          "execution_count": 18
        }
      ]
    },
    {
      "cell_type": "markdown",
      "source": [
        "Unigram is especially useful for multilingual corpora since it allows SentencePiece to be agnostic about accents, punctuation, and the fact that many languages, like Japanese, do not have whitespace characters."
      ],
      "metadata": {
        "id": "EhSfXrScAe1l"
      }
    },
    {
      "cell_type": "code",
      "source": [
        "max_input_length = 512\n",
        "max_target_length = 30\n",
        "def preprocess_function(examples):\n",
        "    model_inputs = tokenizer(\n",
        "        examples[\"review_body\"], max_length=max_input_length, truncation=True\n",
        "    )\n",
        "    # Set up the tokenizer for targets\n",
        "    with tokenizer.as_target_tokenizer():\n",
        "        labels = tokenizer(\n",
        "            examples[\"review_title\"], max_length=max_target_length, truncation=True\n",
        "        )\n",
        "\n",
        "    model_inputs[\"labels\"] = labels[\"input_ids\"]\n",
        "    return model_inputs\n",
        "    "
      ],
      "metadata": {
        "id": "hwmWjj9ZAuba"
      },
      "execution_count": 19,
      "outputs": []
    },
    {
      "cell_type": "markdown",
      "source": [
        "as_target_tokenizer() function that allows you to tokenize the labels in parallel to the inputs. This is typically done using a context manager inside a preprocessing function that first encodes the inputs, and then encodes the labels as a separate column"
      ],
      "metadata": {
        "id": "apoRdi28BjgE"
      }
    },
    {
      "cell_type": "markdown",
      "source": [
        "Let’s walk through this code to understand what’s happening. The first thing we’ve done is define values for max_input_length and max_target_length, which set the upper limits for how long our reviews and titles can be. Since the review body is typically much larger than the title, we’ve scaled these values accordingly. Then, in the preprocess_function() itself we can see the reviews are first tokenized, followed by the titles with as_target_tokenizer().\n",
        "\n",
        "With preprocess_function(), it is then a simple matter to tokenize the whole corpus using the handy Dataset.map() function we’ve used extensively throughout this course:"
      ],
      "metadata": {
        "id": "unAD7p-gB8h1"
      }
    },
    {
      "cell_type": "code",
      "source": [
        "tokenized_datasets = books_dataset.map(preprocess_function, batched=True) #aqui ya se tokeniza titulo y cuerpo a la par de todo el dataset de books, y se rellenan con el batch\n",
        "tokenized_datasets"
      ],
      "metadata": {
        "id": "Qo8Y-aL-B6zo",
        "colab": {
          "base_uri": "https://localhost:8080/",
          "height": 356,
          "referenced_widgets": [
            "ac070e09661d42b2983c127b1937e808",
            "f1171996bb21479ea69bc833e6501533",
            "e7cc4e68cdb347d0bf9bfdd39e5fb054",
            "1dd655aa044d48b0ac7189de8a212742",
            "33337c1adbb54ceaa320cb4000bc87c5",
            "ce5a06e91d0b4ce79fd3fecd2bc6536c",
            "1cd480980bb24ea2a8a80a0beec01a36",
            "44e6d715fa7247998bda63ef5c80bf4a",
            "73a6053db1594d70b4b961c180a8460c",
            "91f7b72840a4429faf86646801d0ba79",
            "81caf511c83745db9512854c10d3c70b",
            "501f179ceaf94602bfcb6aeaa3058482",
            "367ad135629348ffacab2657430005d7",
            "4502fbc174034ded852e2a8140f0165e",
            "1b8bb23092ed498c9ea55517181702fd",
            "280ab2280be24ac79053612b03f29d4c",
            "fd835c63c508478cb57bc3314362978c",
            "d04c312273e34481b30feaf59b188884",
            "0f51b337654b4d9eb2c35082d2aa7d52",
            "fb9993e69b9f462cb160e16649759622",
            "7f1dc75da5a64ac09d8c30f9d2d06e00",
            "f1861adc94904920afdfaf4b1e606224",
            "55081b4378b14b0994ae42adb3e7d28d",
            "392e1452b4bb49c6b900717d2a703dfa",
            "59d163f5e22b45648b3ecdb40b7a7c44",
            "f0061e90964c4d6aac1d7722cb7269b6",
            "b86a263a9a2d4f01917ffe7691acc886",
            "6aee283f8c61482f952b7c42506efd60",
            "80f1890f5f8b4e9e8a4332b1d802edbb",
            "aa69e6cdce73490cbf5d53d2b16eb234",
            "238af8c2e2ee45059230eda59e37cc03",
            "f392f68c90ce4085b3733fd9b86ac146",
            "4a27aef675784cc9b744218cf8eb14c5"
          ]
        },
        "outputId": "7317a190-da7d-4fe7-db92-48c2bddb791b"
      },
      "execution_count": 20,
      "outputs": [
        {
          "output_type": "display_data",
          "data": {
            "text/plain": [
              "  0%|          | 0/10 [00:00<?, ?ba/s]"
            ],
            "application/vnd.jupyter.widget-view+json": {
              "version_major": 2,
              "version_minor": 0,
              "model_id": "ac070e09661d42b2983c127b1937e808"
            }
          },
          "metadata": {}
        },
        {
          "output_type": "display_data",
          "data": {
            "text/plain": [
              "  0%|          | 0/1 [00:00<?, ?ba/s]"
            ],
            "application/vnd.jupyter.widget-view+json": {
              "version_major": 2,
              "version_minor": 0,
              "model_id": "501f179ceaf94602bfcb6aeaa3058482"
            }
          },
          "metadata": {}
        },
        {
          "output_type": "display_data",
          "data": {
            "text/plain": [
              "  0%|          | 0/1 [00:00<?, ?ba/s]"
            ],
            "application/vnd.jupyter.widget-view+json": {
              "version_major": 2,
              "version_minor": 0,
              "model_id": "55081b4378b14b0994ae42adb3e7d28d"
            }
          },
          "metadata": {}
        },
        {
          "output_type": "execute_result",
          "data": {
            "text/plain": [
              "DatasetDict({\n",
              "    train: Dataset({\n",
              "        features: ['review_id', 'product_id', 'reviewer_id', 'stars', 'review_body', 'review_title', 'language', 'product_category', 'input_ids', 'attention_mask', 'labels'],\n",
              "        num_rows: 9672\n",
              "    })\n",
              "    validation: Dataset({\n",
              "        features: ['review_id', 'product_id', 'reviewer_id', 'stars', 'review_body', 'review_title', 'language', 'product_category', 'input_ids', 'attention_mask', 'labels'],\n",
              "        num_rows: 238\n",
              "    })\n",
              "    test: Dataset({\n",
              "        features: ['review_id', 'product_id', 'reviewer_id', 'stars', 'review_body', 'review_title', 'language', 'product_category', 'input_ids', 'attention_mask', 'labels'],\n",
              "        num_rows: 245\n",
              "    })\n",
              "})"
            ]
          },
          "metadata": {},
          "execution_count": 20
        }
      ]
    },
    {
      "cell_type": "code",
      "source": [
        "#lets put metrics to our model(this depends now on how we want our model to work)"
      ],
      "metadata": {
        "id": "l6QMpJu5CiAk"
      },
      "execution_count": null,
      "outputs": []
    },
    {
      "cell_type": "code",
      "source": [
        "# we will use ROUGE metrics which compares  a summary against a set of references created by humans\n"
      ],
      "metadata": {
        "id": "N8QqzOwgCs4-"
      },
      "execution_count": null,
      "outputs": []
    },
    {
      "cell_type": "code",
      "source": [
        "generated_summary = \"realmente me gusta mucho leer\"\n",
        "reference_summary = \"me gusta mucho leer\"\n",
        "#d ROUGE is based on computing the precision and recall scores for the overlap.\n",
        "#Recall= Totalnumberofwords /  inreferencesummaryNumberofoverlappingwords #el numero de palabras que son las mismas entre si \n",
        "#Precision= Totalnumberofwordsingeneratedsummary/ Numberofoverlappingwords #el numero de palabras que hay en las de referencia sobre las que nuestro modelo genero."
      ],
      "metadata": {
        "id": "HfF9FIBuFpwP"
      },
      "execution_count": 25,
      "outputs": []
    },
    {
      "cell_type": "markdown",
      "source": [
        "para hacer eso en el programa instalamos:"
      ],
      "metadata": {
        "id": "18ZqemqVIJr5"
      }
    },
    {
      "cell_type": "code",
      "source": [
        "!pip install rouge_score"
      ],
      "metadata": {
        "id": "6qb4vzBtINzG",
        "colab": {
          "base_uri": "https://localhost:8080/"
        },
        "outputId": "c0766bc2-cb70-4443-dc8f-1d35226e1a38"
      },
      "execution_count": 21,
      "outputs": [
        {
          "output_type": "stream",
          "name": "stdout",
          "text": [
            "Looking in indexes: https://pypi.org/simple, https://us-python.pkg.dev/colab-wheels/public/simple/\n",
            "Collecting rouge_score\n",
            "  Downloading rouge_score-0.1.2.tar.gz (17 kB)\n",
            "Requirement already satisfied: absl-py in /usr/local/lib/python3.7/dist-packages (from rouge_score) (1.2.0)\n",
            "Requirement already satisfied: nltk in /usr/local/lib/python3.7/dist-packages (from rouge_score) (3.7)\n",
            "Requirement already satisfied: numpy in /usr/local/lib/python3.7/dist-packages (from rouge_score) (1.21.6)\n",
            "Requirement already satisfied: six>=1.14.0 in /usr/local/lib/python3.7/dist-packages (from rouge_score) (1.15.0)\n",
            "Requirement already satisfied: click in /usr/local/lib/python3.7/dist-packages (from nltk->rouge_score) (7.1.2)\n",
            "Requirement already satisfied: joblib in /usr/local/lib/python3.7/dist-packages (from nltk->rouge_score) (1.1.0)\n",
            "Requirement already satisfied: regex>=2021.8.3 in /usr/local/lib/python3.7/dist-packages (from nltk->rouge_score) (2022.6.2)\n",
            "Requirement already satisfied: tqdm in /usr/local/lib/python3.7/dist-packages (from nltk->rouge_score) (4.64.0)\n",
            "Building wheels for collected packages: rouge-score\n",
            "  Building wheel for rouge-score (setup.py) ... \u001b[?25l\u001b[?25hdone\n",
            "  Created wheel for rouge-score: filename=rouge_score-0.1.2-py3-none-any.whl size=24955 sha256=d170c09f01fffa1957f034c18807058c6a150cdc1eb20e4604d7af9a2fc08a73\n",
            "  Stored in directory: /root/.cache/pip/wheels/84/ac/6b/38096e3c5bf1dc87911e3585875e21a3ac610348e740409c76\n",
            "Successfully built rouge-score\n",
            "Installing collected packages: rouge-score\n",
            "Successfully installed rouge-score-0.1.2\n"
          ]
        }
      ]
    },
    {
      "cell_type": "code",
      "source": [
        "#we import rouge metrics as\n",
        "!pip install evaluate"
      ],
      "metadata": {
        "id": "Wb5sLt2uISPv"
      },
      "execution_count": null,
      "outputs": []
    },
    {
      "cell_type": "code",
      "source": [
        "import evaluate\n",
        "rouge_score = evaluate.load(\"rouge\")\n"
      ],
      "metadata": {
        "id": "ac_Trd_vJaty"
      },
      "execution_count": null,
      "outputs": []
    },
    {
      "cell_type": "code",
      "source": [
        "scores = rouge_score.compute(\n",
        "    predictions=[generated_summary], references=[reference_summary]\n",
        ")\n",
        "scores"
      ],
      "metadata": {
        "colab": {
          "base_uri": "https://localhost:8080/"
        },
        "id": "VQINA2vJJ7Um",
        "outputId": "1651c2de-c7f1-4dd5-8727-1441d04e4475"
      },
      "execution_count": 26,
      "outputs": [
        {
          "output_type": "execute_result",
          "data": {
            "text/plain": [
              "{'rouge1': 0.888888888888889,\n",
              " 'rouge2': 0.8571428571428571,\n",
              " 'rougeL': 0.888888888888889,\n",
              " 'rougeLsum': 0.888888888888889}"
            ]
          },
          "metadata": {},
          "execution_count": 26
        }
      ]
    },
    {
      "cell_type": "markdown",
      "source": [
        "rouge2 measures the overlap between bigrams (think the overlap of pairs of words), while rougeL and rougeLsum measure the longest matching sequences of words by looking for the longest common substrings in the generated and reference summaries. The “sum” in rougeLsum refers to the fact that this metric is computed over a whole summary, while rougeL is computed as the average over individual sentences."
      ],
      "metadata": {
        "id": "JTrmTrxSKqBq"
      }
    },
    {
      "cell_type": "code",
      "source": [
        "!pip install nltk"
      ],
      "metadata": {
        "id": "JucjaLloKUaI"
      },
      "execution_count": 27,
      "outputs": []
    },
    {
      "cell_type": "code",
      "source": [
        "import nltk\n",
        "\n",
        "nltk.download(\"punkt\")"
      ],
      "metadata": {
        "colab": {
          "base_uri": "https://localhost:8080/"
        },
        "id": "FonNwgtBSMPM",
        "outputId": "944956b7-1f22-4760-c417-e182cc843afc"
      },
      "execution_count": 28,
      "outputs": [
        {
          "output_type": "stream",
          "name": "stderr",
          "text": [
            "[nltk_data] Downloading package punkt to /root/nltk_data...\n",
            "[nltk_data]   Unzipping tokenizers/punkt.zip.\n"
          ]
        },
        {
          "output_type": "execute_result",
          "data": {
            "text/plain": [
              "True"
            ]
          },
          "metadata": {},
          "execution_count": 28
        }
      ]
    },
    {
      "cell_type": "code",
      "source": [
        "from nltk.tokenize import sent_tokenize\n",
        "\n",
        "\n",
        "def three_sentence_summary(text):\n",
        "    return \"\\n\".join(sent_tokenize(text)[:3])\n",
        "\n",
        "\n",
        "print(three_sentence_summary(books_dataset[\"train\"][6][\"review_body\"]))"
      ],
      "metadata": {
        "colab": {
          "base_uri": "https://localhost:8080/"
        },
        "id": "9lc7eYVXSgkx",
        "outputId": "a2f61927-b281-40bd-a4dc-db58bbbe6a25"
      },
      "execution_count": 51,
      "outputs": [
        {
          "output_type": "stream",
          "name": "stdout",
          "text": [
            "Como todo lo de esta autora, buena narración, argumento y desarrollo.\n",
            "Repetiré seguro con.\n"
          ]
        }
      ]
    },
    {
      "cell_type": "code",
      "source": [
        "def evaluate_baseline(dataset, metric):#Something, such as a set of data, used as a basis for comparison or as a control in a study\n",
        "    summaries = [three_sentence_summary(text) for text in dataset[\"review_body\"]]\n",
        "    return metric.compute(predictions=summaries, references=dataset[\"review_title\"])"
      ],
      "metadata": {
        "id": "193PfsICS-EJ"
      },
      "execution_count": 1,
      "outputs": []
    },
    {
      "cell_type": "markdown",
      "source": [
        "We can then use this function to compute the ROUGE scores over the validation set and prettify them a bit using Pandas:"
      ],
      "metadata": {
        "id": "DvunoWRNTINq"
      }
    },
    {
      "cell_type": "code",
      "source": [
        "import pandas as pd\n",
        "rouge_dict=[]\n",
        "score = evaluate_baseline(books_dataset[\"validation\"], rouge_score)\n",
        "rouge_names = [\"rouge1\", \"rouge2\", \"rougeL\", \"rougeLsum\"]\n",
        "rouge_dict = dict((rn, round(score[rn] * 100, 2)) for rn in rouge_names)\n",
        "rouge_dict"
      ],
      "metadata": {
        "colab": {
          "base_uri": "https://localhost:8080/"
        },
        "id": "8zKpEddCTIw1",
        "outputId": "ee949800-f255-4d3c-e8ce-41a116b8a4d0"
      },
      "execution_count": 35,
      "outputs": [
        {
          "output_type": "execute_result",
          "data": {
            "text/plain": [
              "{'rouge1': 16.11, 'rouge2': 8.46, 'rougeL': 14.81, 'rougeLsum': 15.34}"
            ]
          },
          "metadata": {},
          "execution_count": 35
        }
      ]
    },
    {
      "cell_type": "markdown",
      "source": [
        "now we have tu fine-tune our model,so we use a sequence-to-sequence task, we can load the model with the AutoModelForSeq2SeqLM class, which will automatically download and cache the weights:\n",
        "s2s task is use in summarization tasks!"
      ],
      "metadata": {
        "id": "5C8j5GSMK4W7"
      }
    },
    {
      "cell_type": "code",
      "source": [
        "from transformers import AutoModelForSeq2SeqLM\n",
        "\n",
        "model = AutoModelForSeq2SeqLM.from_pretrained(model_checkpoint)"
      ],
      "metadata": {
        "colab": {
          "base_uri": "https://localhost:8080/",
          "height": 49,
          "referenced_widgets": [
            "bfeee5bd3fd6473d81eb7e2ac6df4ba2",
            "f84a6dfae6cb4863bf6f03c9e2ea14d2",
            "efc5d40175a24d9386fe99efb0318ea3",
            "de143b78ec6545efb049eed357b27d57",
            "f9dae5ff42c34b1f961c4a78a2d4e12f",
            "b6970fbed0ed49efaac62e828027c452",
            "971ec943acad4adcb46aa19edb9cc6f1",
            "5700e6f6cfc740f2b29fc07bc0635e1d",
            "2008ac49094a4420baa7b4451822a735",
            "c062133791344fce95bb5754565b4752",
            "eb965e2bc4d4415d80b98521279dcc00"
          ]
        },
        "id": "wwXCTztmLAa1",
        "outputId": "a131f007-7f6d-4a01-97b5-5d9fe1d6110b"
      },
      "execution_count": 36,
      "outputs": [
        {
          "output_type": "display_data",
          "data": {
            "text/plain": [
              "Downloading pytorch_model.bin:   0%|          | 0.00/1.12G [00:00<?, ?B/s]"
            ],
            "application/vnd.jupyter.widget-view+json": {
              "version_major": 2,
              "version_minor": 0,
              "model_id": "bfeee5bd3fd6473d81eb7e2ac6df4ba2"
            }
          },
          "metadata": {}
        }
      ]
    },
    {
      "cell_type": "markdown",
      "source": [
        "We’ll need to generate summaries in order to compute ROUGE scores during training. Fortunately, 🤗 Transformers provides dedicated Seq2SeqTrainingArguments and Seq2SeqTrainer classes that can do this for us automatically! To see how this works, let’s first define the hyperparameters and other arguments for our experiments:"
      ],
      "metadata": {
        "id": "uhzD4PHZLvUI"
      }
    },
    {
      "cell_type": "code",
      "source": [
        "from transformers import Seq2SeqTrainingArguments\n",
        "\n",
        "batch_size = 8\n",
        "num_train_epochs = 8\n",
        "# Show the training loss with every epoch\n",
        "logging_steps = len(tokenized_datasets[\"train\"]) // batch_size\n",
        "model_name = model_checkpoint.split(\"/\")[-1]\n",
        "\n",
        "args = Seq2SeqTrainingArguments(\n",
        "    output_dir=f\"{model_name}-finetuned-amazon-en-es\",\n",
        "    evaluation_strategy=\"epoch\",\n",
        "    learning_rate=5.6e-5, # que tan rapido aprende nuestro modelo de IA\n",
        "    per_device_train_batch_size=batch_size,\n",
        "    per_device_eval_batch_size=batch_size,\n",
        "    weight_decay=0.01,\n",
        "    save_total_limit=3, #option to only save up to 3 checkpoints during training \n",
        "    num_train_epochs=num_train_epochs,\n",
        "    predict_with_generate=True, #generate summaries during evaluation so that we can compute ROUGE scores for each epoch\n",
        "    logging_steps=logging_steps,\n",
        "    push_to_hub=True,\n",
        ")"
      ],
      "metadata": {
        "id": "d3KD314SLv5j"
      },
      "execution_count": 49,
      "outputs": []
    },
    {
      "cell_type": "markdown",
      "source": [
        "The next thing we need to do is provide the trainer with a compute_metrics() function so that we can evaluate our model during training. For summarization this is a bit more involved than simply calling rouge_score.compute() on the model’s predictions, since we need to decode the outputs and labels into text before we can compute the ROUGE scores. The following function does exactly that, and also makes use of the sent_tokenize() function from nltk to separate the summary sentences with newlines:"
      ],
      "metadata": {
        "id": "tkUPcJalPUCG"
      }
    },
    {
      "cell_type": "code",
      "source": [
        "import numpy as np\n",
        "\n",
        "\n",
        "def compute_metrics(eval_pred):\n",
        "    predictions, labels = eval_pred\n",
        "    # Decode generated summaries into text\n",
        "    decoded_preds = tokenizer.batch_decode(predictions, skip_special_tokens=True)\n",
        "    # Replace -100 in the labels as we can't decode them\n",
        "    labels = np.where(labels != -100, labels, tokenizer.pad_token_id)\n",
        "    # Decode reference summaries into text\n",
        "    decoded_labels = tokenizer.batch_decode(labels, skip_special_tokens=True)\n",
        "    # ROUGE expects a newline after each sentence\n",
        "    decoded_preds = [\"\\n\".join(sent_tokenize(pred.strip())) for pred in decoded_preds]\n",
        "    decoded_labels = [\"\\n\".join(sent_tokenize(label.strip())) for label in decoded_labels]\n",
        "    # Compute ROUGE scores\n",
        "    result = rouge_score.compute(\n",
        "        predictions=decoded_preds, references=decoded_labels, use_stemmer=True\n",
        "    )\n",
        "    # Extract the median scores\n",
        "    result = {key: value.mid.fmeasure * 100 for key, value in result.items()}\n",
        "    return {k: round(v, 4) for k, v in result.items()}"
      ],
      "metadata": {
        "id": "9R2rnJ6pPzBs"
      },
      "execution_count": 40,
      "outputs": []
    },
    {
      "cell_type": "markdown",
      "source": [
        "Next, we need to define a data collator for our sequence-to-sequence task. Since mT5 is an encoder-decoder Transformer model, one subtlety with preparing our batches is that during decoding we need to shift the labels to the right by one. This is required to ensure that the decoder only sees the previous ground truth labels and not the current or future ones, which would be easy for the model to memorize. This is similar to how masked self-attention is applied to the inputs in a task like causal language modeling.\n",
        "\n",
        "Luckily, 🤗 Transformers provides a DataCollatorForSeq2Seq collator that will dynamically pad the inputs and the labels for us. To instantiate this collator, we simply need to provide the tokenizer and model:"
      ],
      "metadata": {
        "id": "RdYQ0TgRP-7f"
      }
    },
    {
      "cell_type": "markdown",
      "source": [
        "Data collators are objects that will form a batch by using a list of dataset elements as input. These elements are of the same type as the elements of train_dataset or eval_dataset.\n",
        "\n",
        "To be able to build batches, data collators may apply some processing (like padding). Some of them (like DataCollatorForLanguageModeling) also apply some random data augmentation (like random masking) on the formed batch.\n",
        "\n",
        "Examples of use can be found in the example scripts or example notebooks."
      ],
      "metadata": {
        "id": "KpSbTMARQOcQ"
      }
    },
    {
      "cell_type": "code",
      "source": [
        "from transformers import DataCollatorForSeq2Seq\n",
        "\n",
        "data_collator = DataCollatorForSeq2Seq(tokenizer, model=model)\n"
      ],
      "metadata": {
        "id": "xX6HKyU1QPDd"
      },
      "execution_count": 55,
      "outputs": []
    },
    {
      "cell_type": "code",
      "source": [
        "features = [tokenized_datasets[\"train\"][i] for i in range(2)]\n",
        "data_collator(features)"
      ],
      "metadata": {
        "colab": {
          "base_uri": "https://localhost:8080/"
        },
        "id": "a5R1w5UYSRbL",
        "outputId": "722fdf38-cab8-496d-db7c-2231a9a33bf0"
      },
      "execution_count": 56,
      "outputs": [
        {
          "output_type": "execute_result",
          "data": {
            "text/plain": [
              "{'input_ids': tensor([[  1124,    416,    560,  16409,    537,    259,    262,   7581,    375,\n",
              "            707,    790,    259,  80163,    261,    362,  20591,    707,    259,\n",
              "         233471,    269,  89667,    265,    259,  24427,    259,   7271,  18669,\n",
              "            268,    289,  20513,    259,    276,    303,    707,  39589,    265,\n",
              "            259,    262,    658,  14988,    319,    655,   2769,    269,   1797,\n",
              "            260,   4295,    259,   7239,    510,    417,    269,    573,    674,\n",
              "           1194,    259,    276,    416,  40086,    272,    259,    276,    362,\n",
              "          11393,    655,    283,    283,   3742,    261,    416,  40086,    261,\n",
              "           4955,   1411,   1796,    260,      1],\n",
              "        [   298,   1834,   7509,    337,    520,  90444,    553,      1,      0,\n",
              "              0,      0,      0,      0,      0,      0,      0,      0,      0,\n",
              "              0,      0,      0,      0,      0,      0,      0,      0,      0,\n",
              "              0,      0,      0,      0,      0,      0,      0,      0,      0,\n",
              "              0,      0,      0,      0,      0,      0,      0,      0,      0,\n",
              "              0,      0,      0,      0,      0,      0,      0,      0,      0,\n",
              "              0,      0,      0,      0,      0,      0,      0,      0,      0,\n",
              "              0,      0,      0,      0,      0,      0,      0,      0,      0,\n",
              "              0,      0,      0,      0,      0]]), 'attention_mask': tensor([[1, 1, 1, 1, 1, 1, 1, 1, 1, 1, 1, 1, 1, 1, 1, 1, 1, 1, 1, 1, 1, 1, 1, 1,\n",
              "         1, 1, 1, 1, 1, 1, 1, 1, 1, 1, 1, 1, 1, 1, 1, 1, 1, 1, 1, 1, 1, 1, 1, 1,\n",
              "         1, 1, 1, 1, 1, 1, 1, 1, 1, 1, 1, 1, 1, 1, 1, 1, 1, 1, 1, 1, 1, 1, 1, 1,\n",
              "         1, 1, 1, 1, 1],\n",
              "        [1, 1, 1, 1, 1, 1, 1, 1, 0, 0, 0, 0, 0, 0, 0, 0, 0, 0, 0, 0, 0, 0, 0, 0,\n",
              "         0, 0, 0, 0, 0, 0, 0, 0, 0, 0, 0, 0, 0, 0, 0, 0, 0, 0, 0, 0, 0, 0, 0, 0,\n",
              "         0, 0, 0, 0, 0, 0, 0, 0, 0, 0, 0, 0, 0, 0, 0, 0, 0, 0, 0, 0, 0, 0, 0, 0,\n",
              "         0, 0, 0, 0, 0]]), 'labels': tensor([[   519,    362,    259,  38902,    268,    426, 105729,      1],\n",
              "        [  1536,  17626,    435,    259,  29166,    263,      1,   -100]]), 'decoder_input_ids': tensor([[     0,    519,    362,    259,  38902,    268,    426, 105729],\n",
              "        [     0,   1536,  17626,    435,    259,  29166,    263,      1]])}"
            ]
          },
          "metadata": {},
          "execution_count": 56
        }
      ]
    },
    {
      "cell_type": "markdown",
      "source": [
        "Let’s see what this collator produces when fed a small batch of examples. First, we need to remove the columns with strings because the collator won’t know how to pad these elements, ya viene por default con las nuevas actulizaciones.\n",
        "Since the collator expects a list of dicts, where each dict represents a single example in the dataset, we also need to wrangle the data into the expected format before passing it to the data collator:\n",
        "The main thing to notice here is that the first example is longer than the second one, so the input_ids and attention_mask of the second example have been padded on the right with a [PAD] token (whose ID is 0). Similarly, we can see that the labels have been padded with -100s, to make sure the padding tokens are ignored by the loss function. And finally, we can see a new decoder_input_ids which has shifted the labels to the right by inserting a [PAD] token in the first entry."
      ],
      "metadata": {
        "id": "R4XvgMtIQijm"
      }
    },
    {
      "cell_type": "code",
      "source": [
        "from huggingface_hub import notebook_login\n",
        "\n",
        "notebook_login()"
      ],
      "metadata": {
        "colab": {
          "base_uri": "https://localhost:8080/",
          "height": 299,
          "referenced_widgets": [
            "07323207604b4ae0ac7a1a63e69e0d51",
            "b42242e466ad45bfb588230c71feff17",
            "88d24799960b49089facf57576e26082",
            "9b8f484df995473aab34a47f9580ebcd",
            "385feda3d7c942ddbc828f2d29b5a098",
            "8de8ad89b0254108b1e84ad061d4c14f",
            "e266778411d849b09da645c6e8f25677",
            "937525c5fdbb4142b6cc1e2fa8cb8276",
            "da2f349470234973a3d18d62b61b5c51",
            "a1b155a27a694bb596015d6b31c5ad1a",
            "370214d9b735428188a5e3ca98012231",
            "830b94d65b9b4237b35063e1974bdeca",
            "28c0a9d87bb34d6cb4220155979a6302",
            "942f2bfc8f764b3d92528c61748a6006"
          ]
        },
        "id": "pFCSm8FhTxM0",
        "outputId": "cb417afe-86a2-452e-b761-9640b7c85d1b"
      },
      "execution_count": 58,
      "outputs": [
        {
          "output_type": "stream",
          "name": "stdout",
          "text": [
            "Login successful\n",
            "Your token has been saved to /root/.huggingface/token\n",
            "\u001b[1m\u001b[31mAuthenticated through git-credential store but this isn't the helper defined on your machine.\n",
            "You might have to re-authenticate when pushing to the Hugging Face Hub. Run the following command in your terminal in case you want to set this credential helper as the default\n",
            "\n",
            "git config --global credential.helper store\u001b[0m\n"
          ]
        }
      ]
    },
    {
      "cell_type": "code",
      "source": [
        "from transformers import Seq2SeqTrainer\n",
        "\n",
        "trainer = Seq2SeqTrainer(\n",
        "    model,\n",
        "    args,\n",
        "    train_dataset=tokenized_datasets[\"train\"],\n",
        "    eval_dataset=tokenized_datasets[\"validation\"],\n",
        "    data_collator=data_collator,\n",
        "    tokenizer=tokenizer,\n",
        "    compute_metrics=compute_metrics,\n",
        ")"
      ],
      "metadata": {
        "colab": {
          "base_uri": "https://localhost:8080/"
        },
        "id": "zgdKmEKnTaQj",
        "outputId": "66dde35a-fe61-4f68-8b91-2a29dd781f77"
      },
      "execution_count": 59,
      "outputs": [
        {
          "output_type": "stream",
          "name": "stderr",
          "text": [
            "Cloning https://huggingface.co/OMARS200/mt5-small-finetuned-amazon-en-es into local empty directory.\n",
            "WARNING:huggingface_hub.repository:Cloning https://huggingface.co/OMARS200/mt5-small-finetuned-amazon-en-es into local empty directory.\n"
          ]
        }
      ]
    },
    {
      "cell_type": "code",
      "source": [
        "\n",
        "trainer.train()"
      ],
      "metadata": {
        "colab": {
          "base_uri": "https://localhost:8080/",
          "height": 182
        },
        "id": "oD7ZKNldUIOh",
        "outputId": "4d5d2b6f-099b-4bb4-cb82-050d3ec7f2d8"
      },
      "execution_count": 1,
      "outputs": [
        {
          "output_type": "error",
          "ename": "NameError",
          "evalue": "ignored",
          "traceback": [
            "\u001b[0;31m---------------------------------------------------------------------------\u001b[0m",
            "\u001b[0;31mNameError\u001b[0m                                 Traceback (most recent call last)",
            "\u001b[0;32m<ipython-input-1-fe27539f4aa3>\u001b[0m in \u001b[0;36m<module>\u001b[0;34m()\u001b[0m\n\u001b[1;32m      1\u001b[0m \u001b[0;34m\u001b[0m\u001b[0m\n\u001b[0;32m----> 2\u001b[0;31m \u001b[0mtrainer\u001b[0m\u001b[0;34m.\u001b[0m\u001b[0mtrain\u001b[0m\u001b[0;34m(\u001b[0m\u001b[0;34m)\u001b[0m\u001b[0;34m\u001b[0m\u001b[0;34m\u001b[0m\u001b[0m\n\u001b[0m",
            "\u001b[0;31mNameError\u001b[0m: name 'trainer' is not defined"
          ]
        }
      ]
    },
    {
      "cell_type": "code",
      "source": [
        "trainer.evaluate()"
      ],
      "metadata": {
        "id": "cIzuT1-5U7xq"
      },
      "execution_count": null,
      "outputs": []
    },
    {
      "cell_type": "markdown",
      "source": [
        "During training, you should see the training loss decrease and the ROUGE scores increase with each epoch. Once the training is complete, you can see the final ROUGE scores by running Trainer.evaluate():\n",
        "\n",
        "Copied\n",
        "trainer.evaluate()"
      ],
      "metadata": {
        "id": "mmOWvkTtVG0k"
      }
    }
  ],
  "metadata": {
    "colab": {
      "name": "Resumen_en-es.ipynb",
      "provenance": [],
      "collapsed_sections": [],
      "machine_shape": "hm",
      "authorship_tag": "ABX9TyOTqO41cTulUQguSXRep3Yj",
      "include_colab_link": true
    },
    "gpuClass": "standard",
    "kernelspec": {
      "display_name": "Python 3",
      "name": "python3"
    },
    "language_info": {
      "name": "python"
    },
    "widgets": {
      "application/vnd.jupyter.widget-state+json": {
        "8b7176f6bbd9455e85884ec7da5ca083": {
          "model_module": "@jupyter-widgets/controls",
          "model_name": "HBoxModel",
          "model_module_version": "1.5.0",
          "state": {
            "_dom_classes": [],
            "_model_module": "@jupyter-widgets/controls",
            "_model_module_version": "1.5.0",
            "_model_name": "HBoxModel",
            "_view_count": null,
            "_view_module": "@jupyter-widgets/controls",
            "_view_module_version": "1.5.0",
            "_view_name": "HBoxView",
            "box_style": "",
            "children": [
              "IPY_MODEL_bdfba2118940429eb8a88ed6268ae06e",
              "IPY_MODEL_66d07a83b3b247289a62543a6c14c18b",
              "IPY_MODEL_bbe18d7cf8e348b3b911043602d6d97d"
            ],
            "layout": "IPY_MODEL_c0d8f04acc914a8e92499cb0cdb75667"
          }
        },
        "bdfba2118940429eb8a88ed6268ae06e": {
          "model_module": "@jupyter-widgets/controls",
          "model_name": "HTMLModel",
          "model_module_version": "1.5.0",
          "state": {
            "_dom_classes": [],
            "_model_module": "@jupyter-widgets/controls",
            "_model_module_version": "1.5.0",
            "_model_name": "HTMLModel",
            "_view_count": null,
            "_view_module": "@jupyter-widgets/controls",
            "_view_module_version": "1.5.0",
            "_view_name": "HTMLView",
            "description": "",
            "description_tooltip": null,
            "layout": "IPY_MODEL_259e7bc0ee91450c9aab23b7400dbeab",
            "placeholder": "​",
            "style": "IPY_MODEL_e50eb97848904b66bfc9ec0d8bb7793e",
            "value": "100%"
          }
        },
        "66d07a83b3b247289a62543a6c14c18b": {
          "model_module": "@jupyter-widgets/controls",
          "model_name": "FloatProgressModel",
          "model_module_version": "1.5.0",
          "state": {
            "_dom_classes": [],
            "_model_module": "@jupyter-widgets/controls",
            "_model_module_version": "1.5.0",
            "_model_name": "FloatProgressModel",
            "_view_count": null,
            "_view_module": "@jupyter-widgets/controls",
            "_view_module_version": "1.5.0",
            "_view_name": "ProgressView",
            "bar_style": "success",
            "description": "",
            "description_tooltip": null,
            "layout": "IPY_MODEL_57db3536484142ef8a2bbabc72cb9ff3",
            "max": 18,
            "min": 0,
            "orientation": "horizontal",
            "style": "IPY_MODEL_c1f8e5da9df945db95edb7956efd4232",
            "value": 18
          }
        },
        "bbe18d7cf8e348b3b911043602d6d97d": {
          "model_module": "@jupyter-widgets/controls",
          "model_name": "HTMLModel",
          "model_module_version": "1.5.0",
          "state": {
            "_dom_classes": [],
            "_model_module": "@jupyter-widgets/controls",
            "_model_module_version": "1.5.0",
            "_model_name": "HTMLModel",
            "_view_count": null,
            "_view_module": "@jupyter-widgets/controls",
            "_view_module_version": "1.5.0",
            "_view_name": "HTMLView",
            "description": "",
            "description_tooltip": null,
            "layout": "IPY_MODEL_4ccb6975e98e47c1b70df37560839061",
            "placeholder": "​",
            "style": "IPY_MODEL_60eeaf5b9cde496b96dfa07f61a2efbd",
            "value": " 18/18 [00:00&lt;00:00, 23.33ba/s]"
          }
        },
        "c0d8f04acc914a8e92499cb0cdb75667": {
          "model_module": "@jupyter-widgets/base",
          "model_name": "LayoutModel",
          "model_module_version": "1.2.0",
          "state": {
            "_model_module": "@jupyter-widgets/base",
            "_model_module_version": "1.2.0",
            "_model_name": "LayoutModel",
            "_view_count": null,
            "_view_module": "@jupyter-widgets/base",
            "_view_module_version": "1.2.0",
            "_view_name": "LayoutView",
            "align_content": null,
            "align_items": null,
            "align_self": null,
            "border": null,
            "bottom": null,
            "display": null,
            "flex": null,
            "flex_flow": null,
            "grid_area": null,
            "grid_auto_columns": null,
            "grid_auto_flow": null,
            "grid_auto_rows": null,
            "grid_column": null,
            "grid_gap": null,
            "grid_row": null,
            "grid_template_areas": null,
            "grid_template_columns": null,
            "grid_template_rows": null,
            "height": null,
            "justify_content": null,
            "justify_items": null,
            "left": null,
            "margin": null,
            "max_height": null,
            "max_width": null,
            "min_height": null,
            "min_width": null,
            "object_fit": null,
            "object_position": null,
            "order": null,
            "overflow": null,
            "overflow_x": null,
            "overflow_y": null,
            "padding": null,
            "right": null,
            "top": null,
            "visibility": null,
            "width": null
          }
        },
        "259e7bc0ee91450c9aab23b7400dbeab": {
          "model_module": "@jupyter-widgets/base",
          "model_name": "LayoutModel",
          "model_module_version": "1.2.0",
          "state": {
            "_model_module": "@jupyter-widgets/base",
            "_model_module_version": "1.2.0",
            "_model_name": "LayoutModel",
            "_view_count": null,
            "_view_module": "@jupyter-widgets/base",
            "_view_module_version": "1.2.0",
            "_view_name": "LayoutView",
            "align_content": null,
            "align_items": null,
            "align_self": null,
            "border": null,
            "bottom": null,
            "display": null,
            "flex": null,
            "flex_flow": null,
            "grid_area": null,
            "grid_auto_columns": null,
            "grid_auto_flow": null,
            "grid_auto_rows": null,
            "grid_column": null,
            "grid_gap": null,
            "grid_row": null,
            "grid_template_areas": null,
            "grid_template_columns": null,
            "grid_template_rows": null,
            "height": null,
            "justify_content": null,
            "justify_items": null,
            "left": null,
            "margin": null,
            "max_height": null,
            "max_width": null,
            "min_height": null,
            "min_width": null,
            "object_fit": null,
            "object_position": null,
            "order": null,
            "overflow": null,
            "overflow_x": null,
            "overflow_y": null,
            "padding": null,
            "right": null,
            "top": null,
            "visibility": null,
            "width": null
          }
        },
        "e50eb97848904b66bfc9ec0d8bb7793e": {
          "model_module": "@jupyter-widgets/controls",
          "model_name": "DescriptionStyleModel",
          "model_module_version": "1.5.0",
          "state": {
            "_model_module": "@jupyter-widgets/controls",
            "_model_module_version": "1.5.0",
            "_model_name": "DescriptionStyleModel",
            "_view_count": null,
            "_view_module": "@jupyter-widgets/base",
            "_view_module_version": "1.2.0",
            "_view_name": "StyleView",
            "description_width": ""
          }
        },
        "57db3536484142ef8a2bbabc72cb9ff3": {
          "model_module": "@jupyter-widgets/base",
          "model_name": "LayoutModel",
          "model_module_version": "1.2.0",
          "state": {
            "_model_module": "@jupyter-widgets/base",
            "_model_module_version": "1.2.0",
            "_model_name": "LayoutModel",
            "_view_count": null,
            "_view_module": "@jupyter-widgets/base",
            "_view_module_version": "1.2.0",
            "_view_name": "LayoutView",
            "align_content": null,
            "align_items": null,
            "align_self": null,
            "border": null,
            "bottom": null,
            "display": null,
            "flex": null,
            "flex_flow": null,
            "grid_area": null,
            "grid_auto_columns": null,
            "grid_auto_flow": null,
            "grid_auto_rows": null,
            "grid_column": null,
            "grid_gap": null,
            "grid_row": null,
            "grid_template_areas": null,
            "grid_template_columns": null,
            "grid_template_rows": null,
            "height": null,
            "justify_content": null,
            "justify_items": null,
            "left": null,
            "margin": null,
            "max_height": null,
            "max_width": null,
            "min_height": null,
            "min_width": null,
            "object_fit": null,
            "object_position": null,
            "order": null,
            "overflow": null,
            "overflow_x": null,
            "overflow_y": null,
            "padding": null,
            "right": null,
            "top": null,
            "visibility": null,
            "width": null
          }
        },
        "c1f8e5da9df945db95edb7956efd4232": {
          "model_module": "@jupyter-widgets/controls",
          "model_name": "ProgressStyleModel",
          "model_module_version": "1.5.0",
          "state": {
            "_model_module": "@jupyter-widgets/controls",
            "_model_module_version": "1.5.0",
            "_model_name": "ProgressStyleModel",
            "_view_count": null,
            "_view_module": "@jupyter-widgets/base",
            "_view_module_version": "1.2.0",
            "_view_name": "StyleView",
            "bar_color": null,
            "description_width": ""
          }
        },
        "4ccb6975e98e47c1b70df37560839061": {
          "model_module": "@jupyter-widgets/base",
          "model_name": "LayoutModel",
          "model_module_version": "1.2.0",
          "state": {
            "_model_module": "@jupyter-widgets/base",
            "_model_module_version": "1.2.0",
            "_model_name": "LayoutModel",
            "_view_count": null,
            "_view_module": "@jupyter-widgets/base",
            "_view_module_version": "1.2.0",
            "_view_name": "LayoutView",
            "align_content": null,
            "align_items": null,
            "align_self": null,
            "border": null,
            "bottom": null,
            "display": null,
            "flex": null,
            "flex_flow": null,
            "grid_area": null,
            "grid_auto_columns": null,
            "grid_auto_flow": null,
            "grid_auto_rows": null,
            "grid_column": null,
            "grid_gap": null,
            "grid_row": null,
            "grid_template_areas": null,
            "grid_template_columns": null,
            "grid_template_rows": null,
            "height": null,
            "justify_content": null,
            "justify_items": null,
            "left": null,
            "margin": null,
            "max_height": null,
            "max_width": null,
            "min_height": null,
            "min_width": null,
            "object_fit": null,
            "object_position": null,
            "order": null,
            "overflow": null,
            "overflow_x": null,
            "overflow_y": null,
            "padding": null,
            "right": null,
            "top": null,
            "visibility": null,
            "width": null
          }
        },
        "60eeaf5b9cde496b96dfa07f61a2efbd": {
          "model_module": "@jupyter-widgets/controls",
          "model_name": "DescriptionStyleModel",
          "model_module_version": "1.5.0",
          "state": {
            "_model_module": "@jupyter-widgets/controls",
            "_model_module_version": "1.5.0",
            "_model_name": "DescriptionStyleModel",
            "_view_count": null,
            "_view_module": "@jupyter-widgets/base",
            "_view_module_version": "1.2.0",
            "_view_name": "StyleView",
            "description_width": ""
          }
        },
        "5a45cce52b8c4f8480ea669d50436e72": {
          "model_module": "@jupyter-widgets/controls",
          "model_name": "HBoxModel",
          "model_module_version": "1.5.0",
          "state": {
            "_dom_classes": [],
            "_model_module": "@jupyter-widgets/controls",
            "_model_module_version": "1.5.0",
            "_model_name": "HBoxModel",
            "_view_count": null,
            "_view_module": "@jupyter-widgets/controls",
            "_view_module_version": "1.5.0",
            "_view_name": "HBoxView",
            "box_style": "",
            "children": [
              "IPY_MODEL_195513f35ec943879a7c873bfe14252d",
              "IPY_MODEL_e8ef7f7005994110a56e1363b1e7150e",
              "IPY_MODEL_31c6baf73ad54ea793f3080ec9ef91de"
            ],
            "layout": "IPY_MODEL_556af5a04feb4e7f9ed2efaf81cf9840"
          }
        },
        "195513f35ec943879a7c873bfe14252d": {
          "model_module": "@jupyter-widgets/controls",
          "model_name": "HTMLModel",
          "model_module_version": "1.5.0",
          "state": {
            "_dom_classes": [],
            "_model_module": "@jupyter-widgets/controls",
            "_model_module_version": "1.5.0",
            "_model_name": "HTMLModel",
            "_view_count": null,
            "_view_module": "@jupyter-widgets/controls",
            "_view_module_version": "1.5.0",
            "_view_name": "HTMLView",
            "description": "",
            "description_tooltip": null,
            "layout": "IPY_MODEL_1d2e5cdb411b43a791ad0e724c1892a3",
            "placeholder": "​",
            "style": "IPY_MODEL_244b1e8980b04772a916ab2ab53f3d27",
            "value": "100%"
          }
        },
        "e8ef7f7005994110a56e1363b1e7150e": {
          "model_module": "@jupyter-widgets/controls",
          "model_name": "FloatProgressModel",
          "model_module_version": "1.5.0",
          "state": {
            "_dom_classes": [],
            "_model_module": "@jupyter-widgets/controls",
            "_model_module_version": "1.5.0",
            "_model_name": "FloatProgressModel",
            "_view_count": null,
            "_view_module": "@jupyter-widgets/controls",
            "_view_module_version": "1.5.0",
            "_view_name": "ProgressView",
            "bar_style": "success",
            "description": "",
            "description_tooltip": null,
            "layout": "IPY_MODEL_514444c54797486981d382bf9f079463",
            "max": 1,
            "min": 0,
            "orientation": "horizontal",
            "style": "IPY_MODEL_f049f7cea22a4ce79e4acdec2ac2fd76",
            "value": 1
          }
        },
        "31c6baf73ad54ea793f3080ec9ef91de": {
          "model_module": "@jupyter-widgets/controls",
          "model_name": "HTMLModel",
          "model_module_version": "1.5.0",
          "state": {
            "_dom_classes": [],
            "_model_module": "@jupyter-widgets/controls",
            "_model_module_version": "1.5.0",
            "_model_name": "HTMLModel",
            "_view_count": null,
            "_view_module": "@jupyter-widgets/controls",
            "_view_module_version": "1.5.0",
            "_view_name": "HTMLView",
            "description": "",
            "description_tooltip": null,
            "layout": "IPY_MODEL_0e19813ea8b2467d99879f1083ceee59",
            "placeholder": "​",
            "style": "IPY_MODEL_ca5c2b886f264266a651349be0aa28ed",
            "value": " 1/1 [00:00&lt;00:00, 16.00ba/s]"
          }
        },
        "556af5a04feb4e7f9ed2efaf81cf9840": {
          "model_module": "@jupyter-widgets/base",
          "model_name": "LayoutModel",
          "model_module_version": "1.2.0",
          "state": {
            "_model_module": "@jupyter-widgets/base",
            "_model_module_version": "1.2.0",
            "_model_name": "LayoutModel",
            "_view_count": null,
            "_view_module": "@jupyter-widgets/base",
            "_view_module_version": "1.2.0",
            "_view_name": "LayoutView",
            "align_content": null,
            "align_items": null,
            "align_self": null,
            "border": null,
            "bottom": null,
            "display": null,
            "flex": null,
            "flex_flow": null,
            "grid_area": null,
            "grid_auto_columns": null,
            "grid_auto_flow": null,
            "grid_auto_rows": null,
            "grid_column": null,
            "grid_gap": null,
            "grid_row": null,
            "grid_template_areas": null,
            "grid_template_columns": null,
            "grid_template_rows": null,
            "height": null,
            "justify_content": null,
            "justify_items": null,
            "left": null,
            "margin": null,
            "max_height": null,
            "max_width": null,
            "min_height": null,
            "min_width": null,
            "object_fit": null,
            "object_position": null,
            "order": null,
            "overflow": null,
            "overflow_x": null,
            "overflow_y": null,
            "padding": null,
            "right": null,
            "top": null,
            "visibility": null,
            "width": null
          }
        },
        "1d2e5cdb411b43a791ad0e724c1892a3": {
          "model_module": "@jupyter-widgets/base",
          "model_name": "LayoutModel",
          "model_module_version": "1.2.0",
          "state": {
            "_model_module": "@jupyter-widgets/base",
            "_model_module_version": "1.2.0",
            "_model_name": "LayoutModel",
            "_view_count": null,
            "_view_module": "@jupyter-widgets/base",
            "_view_module_version": "1.2.0",
            "_view_name": "LayoutView",
            "align_content": null,
            "align_items": null,
            "align_self": null,
            "border": null,
            "bottom": null,
            "display": null,
            "flex": null,
            "flex_flow": null,
            "grid_area": null,
            "grid_auto_columns": null,
            "grid_auto_flow": null,
            "grid_auto_rows": null,
            "grid_column": null,
            "grid_gap": null,
            "grid_row": null,
            "grid_template_areas": null,
            "grid_template_columns": null,
            "grid_template_rows": null,
            "height": null,
            "justify_content": null,
            "justify_items": null,
            "left": null,
            "margin": null,
            "max_height": null,
            "max_width": null,
            "min_height": null,
            "min_width": null,
            "object_fit": null,
            "object_position": null,
            "order": null,
            "overflow": null,
            "overflow_x": null,
            "overflow_y": null,
            "padding": null,
            "right": null,
            "top": null,
            "visibility": null,
            "width": null
          }
        },
        "244b1e8980b04772a916ab2ab53f3d27": {
          "model_module": "@jupyter-widgets/controls",
          "model_name": "DescriptionStyleModel",
          "model_module_version": "1.5.0",
          "state": {
            "_model_module": "@jupyter-widgets/controls",
            "_model_module_version": "1.5.0",
            "_model_name": "DescriptionStyleModel",
            "_view_count": null,
            "_view_module": "@jupyter-widgets/base",
            "_view_module_version": "1.2.0",
            "_view_name": "StyleView",
            "description_width": ""
          }
        },
        "514444c54797486981d382bf9f079463": {
          "model_module": "@jupyter-widgets/base",
          "model_name": "LayoutModel",
          "model_module_version": "1.2.0",
          "state": {
            "_model_module": "@jupyter-widgets/base",
            "_model_module_version": "1.2.0",
            "_model_name": "LayoutModel",
            "_view_count": null,
            "_view_module": "@jupyter-widgets/base",
            "_view_module_version": "1.2.0",
            "_view_name": "LayoutView",
            "align_content": null,
            "align_items": null,
            "align_self": null,
            "border": null,
            "bottom": null,
            "display": null,
            "flex": null,
            "flex_flow": null,
            "grid_area": null,
            "grid_auto_columns": null,
            "grid_auto_flow": null,
            "grid_auto_rows": null,
            "grid_column": null,
            "grid_gap": null,
            "grid_row": null,
            "grid_template_areas": null,
            "grid_template_columns": null,
            "grid_template_rows": null,
            "height": null,
            "justify_content": null,
            "justify_items": null,
            "left": null,
            "margin": null,
            "max_height": null,
            "max_width": null,
            "min_height": null,
            "min_width": null,
            "object_fit": null,
            "object_position": null,
            "order": null,
            "overflow": null,
            "overflow_x": null,
            "overflow_y": null,
            "padding": null,
            "right": null,
            "top": null,
            "visibility": null,
            "width": null
          }
        },
        "f049f7cea22a4ce79e4acdec2ac2fd76": {
          "model_module": "@jupyter-widgets/controls",
          "model_name": "ProgressStyleModel",
          "model_module_version": "1.5.0",
          "state": {
            "_model_module": "@jupyter-widgets/controls",
            "_model_module_version": "1.5.0",
            "_model_name": "ProgressStyleModel",
            "_view_count": null,
            "_view_module": "@jupyter-widgets/base",
            "_view_module_version": "1.2.0",
            "_view_name": "StyleView",
            "bar_color": null,
            "description_width": ""
          }
        },
        "0e19813ea8b2467d99879f1083ceee59": {
          "model_module": "@jupyter-widgets/base",
          "model_name": "LayoutModel",
          "model_module_version": "1.2.0",
          "state": {
            "_model_module": "@jupyter-widgets/base",
            "_model_module_version": "1.2.0",
            "_model_name": "LayoutModel",
            "_view_count": null,
            "_view_module": "@jupyter-widgets/base",
            "_view_module_version": "1.2.0",
            "_view_name": "LayoutView",
            "align_content": null,
            "align_items": null,
            "align_self": null,
            "border": null,
            "bottom": null,
            "display": null,
            "flex": null,
            "flex_flow": null,
            "grid_area": null,
            "grid_auto_columns": null,
            "grid_auto_flow": null,
            "grid_auto_rows": null,
            "grid_column": null,
            "grid_gap": null,
            "grid_row": null,
            "grid_template_areas": null,
            "grid_template_columns": null,
            "grid_template_rows": null,
            "height": null,
            "justify_content": null,
            "justify_items": null,
            "left": null,
            "margin": null,
            "max_height": null,
            "max_width": null,
            "min_height": null,
            "min_width": null,
            "object_fit": null,
            "object_position": null,
            "order": null,
            "overflow": null,
            "overflow_x": null,
            "overflow_y": null,
            "padding": null,
            "right": null,
            "top": null,
            "visibility": null,
            "width": null
          }
        },
        "ca5c2b886f264266a651349be0aa28ed": {
          "model_module": "@jupyter-widgets/controls",
          "model_name": "DescriptionStyleModel",
          "model_module_version": "1.5.0",
          "state": {
            "_model_module": "@jupyter-widgets/controls",
            "_model_module_version": "1.5.0",
            "_model_name": "DescriptionStyleModel",
            "_view_count": null,
            "_view_module": "@jupyter-widgets/base",
            "_view_module_version": "1.2.0",
            "_view_name": "StyleView",
            "description_width": ""
          }
        },
        "72a9ab4e35054194a5c37c3e4d9ad24a": {
          "model_module": "@jupyter-widgets/controls",
          "model_name": "HBoxModel",
          "model_module_version": "1.5.0",
          "state": {
            "_dom_classes": [],
            "_model_module": "@jupyter-widgets/controls",
            "_model_module_version": "1.5.0",
            "_model_name": "HBoxModel",
            "_view_count": null,
            "_view_module": "@jupyter-widgets/controls",
            "_view_module_version": "1.5.0",
            "_view_name": "HBoxView",
            "box_style": "",
            "children": [
              "IPY_MODEL_a92a34f5150a4c76912fa6ab3913e588",
              "IPY_MODEL_6d90f13cb31741a1957d72afafb8b728",
              "IPY_MODEL_c7deca7253e9468c901fcdfd17330a81"
            ],
            "layout": "IPY_MODEL_6a01158f7c214c47b3cf393c0f123a73"
          }
        },
        "a92a34f5150a4c76912fa6ab3913e588": {
          "model_module": "@jupyter-widgets/controls",
          "model_name": "HTMLModel",
          "model_module_version": "1.5.0",
          "state": {
            "_dom_classes": [],
            "_model_module": "@jupyter-widgets/controls",
            "_model_module_version": "1.5.0",
            "_model_name": "HTMLModel",
            "_view_count": null,
            "_view_module": "@jupyter-widgets/controls",
            "_view_module_version": "1.5.0",
            "_view_name": "HTMLView",
            "description": "",
            "description_tooltip": null,
            "layout": "IPY_MODEL_579037d083eb49339a16258b797b9d7c",
            "placeholder": "​",
            "style": "IPY_MODEL_b3d43ad50b2d48f998800c14df0cfd77",
            "value": "100%"
          }
        },
        "6d90f13cb31741a1957d72afafb8b728": {
          "model_module": "@jupyter-widgets/controls",
          "model_name": "FloatProgressModel",
          "model_module_version": "1.5.0",
          "state": {
            "_dom_classes": [],
            "_model_module": "@jupyter-widgets/controls",
            "_model_module_version": "1.5.0",
            "_model_name": "FloatProgressModel",
            "_view_count": null,
            "_view_module": "@jupyter-widgets/controls",
            "_view_module_version": "1.5.0",
            "_view_name": "ProgressView",
            "bar_style": "success",
            "description": "",
            "description_tooltip": null,
            "layout": "IPY_MODEL_89c2330472194fd9be1054598bbda85f",
            "max": 1,
            "min": 0,
            "orientation": "horizontal",
            "style": "IPY_MODEL_6e401062d518434ea72678cf694b4151",
            "value": 1
          }
        },
        "c7deca7253e9468c901fcdfd17330a81": {
          "model_module": "@jupyter-widgets/controls",
          "model_name": "HTMLModel",
          "model_module_version": "1.5.0",
          "state": {
            "_dom_classes": [],
            "_model_module": "@jupyter-widgets/controls",
            "_model_module_version": "1.5.0",
            "_model_name": "HTMLModel",
            "_view_count": null,
            "_view_module": "@jupyter-widgets/controls",
            "_view_module_version": "1.5.0",
            "_view_name": "HTMLView",
            "description": "",
            "description_tooltip": null,
            "layout": "IPY_MODEL_326cdb7c9d284424a84bf6f2fc0a2a76",
            "placeholder": "​",
            "style": "IPY_MODEL_3c146b97cc094da08e22f426d9f1af96",
            "value": " 1/1 [00:00&lt;00:00, 16.62ba/s]"
          }
        },
        "6a01158f7c214c47b3cf393c0f123a73": {
          "model_module": "@jupyter-widgets/base",
          "model_name": "LayoutModel",
          "model_module_version": "1.2.0",
          "state": {
            "_model_module": "@jupyter-widgets/base",
            "_model_module_version": "1.2.0",
            "_model_name": "LayoutModel",
            "_view_count": null,
            "_view_module": "@jupyter-widgets/base",
            "_view_module_version": "1.2.0",
            "_view_name": "LayoutView",
            "align_content": null,
            "align_items": null,
            "align_self": null,
            "border": null,
            "bottom": null,
            "display": null,
            "flex": null,
            "flex_flow": null,
            "grid_area": null,
            "grid_auto_columns": null,
            "grid_auto_flow": null,
            "grid_auto_rows": null,
            "grid_column": null,
            "grid_gap": null,
            "grid_row": null,
            "grid_template_areas": null,
            "grid_template_columns": null,
            "grid_template_rows": null,
            "height": null,
            "justify_content": null,
            "justify_items": null,
            "left": null,
            "margin": null,
            "max_height": null,
            "max_width": null,
            "min_height": null,
            "min_width": null,
            "object_fit": null,
            "object_position": null,
            "order": null,
            "overflow": null,
            "overflow_x": null,
            "overflow_y": null,
            "padding": null,
            "right": null,
            "top": null,
            "visibility": null,
            "width": null
          }
        },
        "579037d083eb49339a16258b797b9d7c": {
          "model_module": "@jupyter-widgets/base",
          "model_name": "LayoutModel",
          "model_module_version": "1.2.0",
          "state": {
            "_model_module": "@jupyter-widgets/base",
            "_model_module_version": "1.2.0",
            "_model_name": "LayoutModel",
            "_view_count": null,
            "_view_module": "@jupyter-widgets/base",
            "_view_module_version": "1.2.0",
            "_view_name": "LayoutView",
            "align_content": null,
            "align_items": null,
            "align_self": null,
            "border": null,
            "bottom": null,
            "display": null,
            "flex": null,
            "flex_flow": null,
            "grid_area": null,
            "grid_auto_columns": null,
            "grid_auto_flow": null,
            "grid_auto_rows": null,
            "grid_column": null,
            "grid_gap": null,
            "grid_row": null,
            "grid_template_areas": null,
            "grid_template_columns": null,
            "grid_template_rows": null,
            "height": null,
            "justify_content": null,
            "justify_items": null,
            "left": null,
            "margin": null,
            "max_height": null,
            "max_width": null,
            "min_height": null,
            "min_width": null,
            "object_fit": null,
            "object_position": null,
            "order": null,
            "overflow": null,
            "overflow_x": null,
            "overflow_y": null,
            "padding": null,
            "right": null,
            "top": null,
            "visibility": null,
            "width": null
          }
        },
        "b3d43ad50b2d48f998800c14df0cfd77": {
          "model_module": "@jupyter-widgets/controls",
          "model_name": "DescriptionStyleModel",
          "model_module_version": "1.5.0",
          "state": {
            "_model_module": "@jupyter-widgets/controls",
            "_model_module_version": "1.5.0",
            "_model_name": "DescriptionStyleModel",
            "_view_count": null,
            "_view_module": "@jupyter-widgets/base",
            "_view_module_version": "1.2.0",
            "_view_name": "StyleView",
            "description_width": ""
          }
        },
        "89c2330472194fd9be1054598bbda85f": {
          "model_module": "@jupyter-widgets/base",
          "model_name": "LayoutModel",
          "model_module_version": "1.2.0",
          "state": {
            "_model_module": "@jupyter-widgets/base",
            "_model_module_version": "1.2.0",
            "_model_name": "LayoutModel",
            "_view_count": null,
            "_view_module": "@jupyter-widgets/base",
            "_view_module_version": "1.2.0",
            "_view_name": "LayoutView",
            "align_content": null,
            "align_items": null,
            "align_self": null,
            "border": null,
            "bottom": null,
            "display": null,
            "flex": null,
            "flex_flow": null,
            "grid_area": null,
            "grid_auto_columns": null,
            "grid_auto_flow": null,
            "grid_auto_rows": null,
            "grid_column": null,
            "grid_gap": null,
            "grid_row": null,
            "grid_template_areas": null,
            "grid_template_columns": null,
            "grid_template_rows": null,
            "height": null,
            "justify_content": null,
            "justify_items": null,
            "left": null,
            "margin": null,
            "max_height": null,
            "max_width": null,
            "min_height": null,
            "min_width": null,
            "object_fit": null,
            "object_position": null,
            "order": null,
            "overflow": null,
            "overflow_x": null,
            "overflow_y": null,
            "padding": null,
            "right": null,
            "top": null,
            "visibility": null,
            "width": null
          }
        },
        "6e401062d518434ea72678cf694b4151": {
          "model_module": "@jupyter-widgets/controls",
          "model_name": "ProgressStyleModel",
          "model_module_version": "1.5.0",
          "state": {
            "_model_module": "@jupyter-widgets/controls",
            "_model_module_version": "1.5.0",
            "_model_name": "ProgressStyleModel",
            "_view_count": null,
            "_view_module": "@jupyter-widgets/base",
            "_view_module_version": "1.2.0",
            "_view_name": "StyleView",
            "bar_color": null,
            "description_width": ""
          }
        },
        "326cdb7c9d284424a84bf6f2fc0a2a76": {
          "model_module": "@jupyter-widgets/base",
          "model_name": "LayoutModel",
          "model_module_version": "1.2.0",
          "state": {
            "_model_module": "@jupyter-widgets/base",
            "_model_module_version": "1.2.0",
            "_model_name": "LayoutModel",
            "_view_count": null,
            "_view_module": "@jupyter-widgets/base",
            "_view_module_version": "1.2.0",
            "_view_name": "LayoutView",
            "align_content": null,
            "align_items": null,
            "align_self": null,
            "border": null,
            "bottom": null,
            "display": null,
            "flex": null,
            "flex_flow": null,
            "grid_area": null,
            "grid_auto_columns": null,
            "grid_auto_flow": null,
            "grid_auto_rows": null,
            "grid_column": null,
            "grid_gap": null,
            "grid_row": null,
            "grid_template_areas": null,
            "grid_template_columns": null,
            "grid_template_rows": null,
            "height": null,
            "justify_content": null,
            "justify_items": null,
            "left": null,
            "margin": null,
            "max_height": null,
            "max_width": null,
            "min_height": null,
            "min_width": null,
            "object_fit": null,
            "object_position": null,
            "order": null,
            "overflow": null,
            "overflow_x": null,
            "overflow_y": null,
            "padding": null,
            "right": null,
            "top": null,
            "visibility": null,
            "width": null
          }
        },
        "3c146b97cc094da08e22f426d9f1af96": {
          "model_module": "@jupyter-widgets/controls",
          "model_name": "DescriptionStyleModel",
          "model_module_version": "1.5.0",
          "state": {
            "_model_module": "@jupyter-widgets/controls",
            "_model_module_version": "1.5.0",
            "_model_name": "DescriptionStyleModel",
            "_view_count": null,
            "_view_module": "@jupyter-widgets/base",
            "_view_module_version": "1.2.0",
            "_view_name": "StyleView",
            "description_width": ""
          }
        },
        "57160d78d41b4f0b94518856519caec8": {
          "model_module": "@jupyter-widgets/controls",
          "model_name": "HBoxModel",
          "model_module_version": "1.5.0",
          "state": {
            "_dom_classes": [],
            "_model_module": "@jupyter-widgets/controls",
            "_model_module_version": "1.5.0",
            "_model_name": "HBoxModel",
            "_view_count": null,
            "_view_module": "@jupyter-widgets/controls",
            "_view_module_version": "1.5.0",
            "_view_name": "HBoxView",
            "box_style": "",
            "children": [
              "IPY_MODEL_8964ffebb1854b84b4c3e2c6fe48b50a",
              "IPY_MODEL_39d5794bf93745a483e76d956f02de48",
              "IPY_MODEL_e67b0bf531e544158b72653a6c391668"
            ],
            "layout": "IPY_MODEL_b45fcd6c29ca4cb7ad39f69746289867"
          }
        },
        "8964ffebb1854b84b4c3e2c6fe48b50a": {
          "model_module": "@jupyter-widgets/controls",
          "model_name": "HTMLModel",
          "model_module_version": "1.5.0",
          "state": {
            "_dom_classes": [],
            "_model_module": "@jupyter-widgets/controls",
            "_model_module_version": "1.5.0",
            "_model_name": "HTMLModel",
            "_view_count": null,
            "_view_module": "@jupyter-widgets/controls",
            "_view_module_version": "1.5.0",
            "_view_name": "HTMLView",
            "description": "",
            "description_tooltip": null,
            "layout": "IPY_MODEL_f0f508280aaa45669a97904aa96eebe3",
            "placeholder": "​",
            "style": "IPY_MODEL_ce78c9f8d0c84fc393aa192e749fe50f",
            "value": "Downloading tokenizer_config.json: 100%"
          }
        },
        "39d5794bf93745a483e76d956f02de48": {
          "model_module": "@jupyter-widgets/controls",
          "model_name": "FloatProgressModel",
          "model_module_version": "1.5.0",
          "state": {
            "_dom_classes": [],
            "_model_module": "@jupyter-widgets/controls",
            "_model_module_version": "1.5.0",
            "_model_name": "FloatProgressModel",
            "_view_count": null,
            "_view_module": "@jupyter-widgets/controls",
            "_view_module_version": "1.5.0",
            "_view_name": "ProgressView",
            "bar_style": "success",
            "description": "",
            "description_tooltip": null,
            "layout": "IPY_MODEL_278b3a72296b4609816e2aee935277eb",
            "max": 82,
            "min": 0,
            "orientation": "horizontal",
            "style": "IPY_MODEL_7b43056008fc48989080b5f108cf8ff9",
            "value": 82
          }
        },
        "e67b0bf531e544158b72653a6c391668": {
          "model_module": "@jupyter-widgets/controls",
          "model_name": "HTMLModel",
          "model_module_version": "1.5.0",
          "state": {
            "_dom_classes": [],
            "_model_module": "@jupyter-widgets/controls",
            "_model_module_version": "1.5.0",
            "_model_name": "HTMLModel",
            "_view_count": null,
            "_view_module": "@jupyter-widgets/controls",
            "_view_module_version": "1.5.0",
            "_view_name": "HTMLView",
            "description": "",
            "description_tooltip": null,
            "layout": "IPY_MODEL_d74446a8ec544b7c9033e00d0cd75df3",
            "placeholder": "​",
            "style": "IPY_MODEL_42df5c46ff554b73a5522ced357f1256",
            "value": " 82.0/82.0 [00:00&lt;00:00, 2.37kB/s]"
          }
        },
        "b45fcd6c29ca4cb7ad39f69746289867": {
          "model_module": "@jupyter-widgets/base",
          "model_name": "LayoutModel",
          "model_module_version": "1.2.0",
          "state": {
            "_model_module": "@jupyter-widgets/base",
            "_model_module_version": "1.2.0",
            "_model_name": "LayoutModel",
            "_view_count": null,
            "_view_module": "@jupyter-widgets/base",
            "_view_module_version": "1.2.0",
            "_view_name": "LayoutView",
            "align_content": null,
            "align_items": null,
            "align_self": null,
            "border": null,
            "bottom": null,
            "display": null,
            "flex": null,
            "flex_flow": null,
            "grid_area": null,
            "grid_auto_columns": null,
            "grid_auto_flow": null,
            "grid_auto_rows": null,
            "grid_column": null,
            "grid_gap": null,
            "grid_row": null,
            "grid_template_areas": null,
            "grid_template_columns": null,
            "grid_template_rows": null,
            "height": null,
            "justify_content": null,
            "justify_items": null,
            "left": null,
            "margin": null,
            "max_height": null,
            "max_width": null,
            "min_height": null,
            "min_width": null,
            "object_fit": null,
            "object_position": null,
            "order": null,
            "overflow": null,
            "overflow_x": null,
            "overflow_y": null,
            "padding": null,
            "right": null,
            "top": null,
            "visibility": null,
            "width": null
          }
        },
        "f0f508280aaa45669a97904aa96eebe3": {
          "model_module": "@jupyter-widgets/base",
          "model_name": "LayoutModel",
          "model_module_version": "1.2.0",
          "state": {
            "_model_module": "@jupyter-widgets/base",
            "_model_module_version": "1.2.0",
            "_model_name": "LayoutModel",
            "_view_count": null,
            "_view_module": "@jupyter-widgets/base",
            "_view_module_version": "1.2.0",
            "_view_name": "LayoutView",
            "align_content": null,
            "align_items": null,
            "align_self": null,
            "border": null,
            "bottom": null,
            "display": null,
            "flex": null,
            "flex_flow": null,
            "grid_area": null,
            "grid_auto_columns": null,
            "grid_auto_flow": null,
            "grid_auto_rows": null,
            "grid_column": null,
            "grid_gap": null,
            "grid_row": null,
            "grid_template_areas": null,
            "grid_template_columns": null,
            "grid_template_rows": null,
            "height": null,
            "justify_content": null,
            "justify_items": null,
            "left": null,
            "margin": null,
            "max_height": null,
            "max_width": null,
            "min_height": null,
            "min_width": null,
            "object_fit": null,
            "object_position": null,
            "order": null,
            "overflow": null,
            "overflow_x": null,
            "overflow_y": null,
            "padding": null,
            "right": null,
            "top": null,
            "visibility": null,
            "width": null
          }
        },
        "ce78c9f8d0c84fc393aa192e749fe50f": {
          "model_module": "@jupyter-widgets/controls",
          "model_name": "DescriptionStyleModel",
          "model_module_version": "1.5.0",
          "state": {
            "_model_module": "@jupyter-widgets/controls",
            "_model_module_version": "1.5.0",
            "_model_name": "DescriptionStyleModel",
            "_view_count": null,
            "_view_module": "@jupyter-widgets/base",
            "_view_module_version": "1.2.0",
            "_view_name": "StyleView",
            "description_width": ""
          }
        },
        "278b3a72296b4609816e2aee935277eb": {
          "model_module": "@jupyter-widgets/base",
          "model_name": "LayoutModel",
          "model_module_version": "1.2.0",
          "state": {
            "_model_module": "@jupyter-widgets/base",
            "_model_module_version": "1.2.0",
            "_model_name": "LayoutModel",
            "_view_count": null,
            "_view_module": "@jupyter-widgets/base",
            "_view_module_version": "1.2.0",
            "_view_name": "LayoutView",
            "align_content": null,
            "align_items": null,
            "align_self": null,
            "border": null,
            "bottom": null,
            "display": null,
            "flex": null,
            "flex_flow": null,
            "grid_area": null,
            "grid_auto_columns": null,
            "grid_auto_flow": null,
            "grid_auto_rows": null,
            "grid_column": null,
            "grid_gap": null,
            "grid_row": null,
            "grid_template_areas": null,
            "grid_template_columns": null,
            "grid_template_rows": null,
            "height": null,
            "justify_content": null,
            "justify_items": null,
            "left": null,
            "margin": null,
            "max_height": null,
            "max_width": null,
            "min_height": null,
            "min_width": null,
            "object_fit": null,
            "object_position": null,
            "order": null,
            "overflow": null,
            "overflow_x": null,
            "overflow_y": null,
            "padding": null,
            "right": null,
            "top": null,
            "visibility": null,
            "width": null
          }
        },
        "7b43056008fc48989080b5f108cf8ff9": {
          "model_module": "@jupyter-widgets/controls",
          "model_name": "ProgressStyleModel",
          "model_module_version": "1.5.0",
          "state": {
            "_model_module": "@jupyter-widgets/controls",
            "_model_module_version": "1.5.0",
            "_model_name": "ProgressStyleModel",
            "_view_count": null,
            "_view_module": "@jupyter-widgets/base",
            "_view_module_version": "1.2.0",
            "_view_name": "StyleView",
            "bar_color": null,
            "description_width": ""
          }
        },
        "d74446a8ec544b7c9033e00d0cd75df3": {
          "model_module": "@jupyter-widgets/base",
          "model_name": "LayoutModel",
          "model_module_version": "1.2.0",
          "state": {
            "_model_module": "@jupyter-widgets/base",
            "_model_module_version": "1.2.0",
            "_model_name": "LayoutModel",
            "_view_count": null,
            "_view_module": "@jupyter-widgets/base",
            "_view_module_version": "1.2.0",
            "_view_name": "LayoutView",
            "align_content": null,
            "align_items": null,
            "align_self": null,
            "border": null,
            "bottom": null,
            "display": null,
            "flex": null,
            "flex_flow": null,
            "grid_area": null,
            "grid_auto_columns": null,
            "grid_auto_flow": null,
            "grid_auto_rows": null,
            "grid_column": null,
            "grid_gap": null,
            "grid_row": null,
            "grid_template_areas": null,
            "grid_template_columns": null,
            "grid_template_rows": null,
            "height": null,
            "justify_content": null,
            "justify_items": null,
            "left": null,
            "margin": null,
            "max_height": null,
            "max_width": null,
            "min_height": null,
            "min_width": null,
            "object_fit": null,
            "object_position": null,
            "order": null,
            "overflow": null,
            "overflow_x": null,
            "overflow_y": null,
            "padding": null,
            "right": null,
            "top": null,
            "visibility": null,
            "width": null
          }
        },
        "42df5c46ff554b73a5522ced357f1256": {
          "model_module": "@jupyter-widgets/controls",
          "model_name": "DescriptionStyleModel",
          "model_module_version": "1.5.0",
          "state": {
            "_model_module": "@jupyter-widgets/controls",
            "_model_module_version": "1.5.0",
            "_model_name": "DescriptionStyleModel",
            "_view_count": null,
            "_view_module": "@jupyter-widgets/base",
            "_view_module_version": "1.2.0",
            "_view_name": "StyleView",
            "description_width": ""
          }
        },
        "3f7aef1633be4ee2825f6c4b0b979dd4": {
          "model_module": "@jupyter-widgets/controls",
          "model_name": "HBoxModel",
          "model_module_version": "1.5.0",
          "state": {
            "_dom_classes": [],
            "_model_module": "@jupyter-widgets/controls",
            "_model_module_version": "1.5.0",
            "_model_name": "HBoxModel",
            "_view_count": null,
            "_view_module": "@jupyter-widgets/controls",
            "_view_module_version": "1.5.0",
            "_view_name": "HBoxView",
            "box_style": "",
            "children": [
              "IPY_MODEL_a7a8cf5e38c54b3db45691cb617941e2",
              "IPY_MODEL_b3adeaae755240e9886ad964f208c037",
              "IPY_MODEL_e24a376783f24abbbe9a03e361830ac4"
            ],
            "layout": "IPY_MODEL_7752f3b8e0fa46a1b1daf8606dc17c10"
          }
        },
        "a7a8cf5e38c54b3db45691cb617941e2": {
          "model_module": "@jupyter-widgets/controls",
          "model_name": "HTMLModel",
          "model_module_version": "1.5.0",
          "state": {
            "_dom_classes": [],
            "_model_module": "@jupyter-widgets/controls",
            "_model_module_version": "1.5.0",
            "_model_name": "HTMLModel",
            "_view_count": null,
            "_view_module": "@jupyter-widgets/controls",
            "_view_module_version": "1.5.0",
            "_view_name": "HTMLView",
            "description": "",
            "description_tooltip": null,
            "layout": "IPY_MODEL_32f5085da2694f4d8cf91c7c47000d14",
            "placeholder": "​",
            "style": "IPY_MODEL_8d4e7953156444b0b878d46350ef9584",
            "value": "Downloading config.json: 100%"
          }
        },
        "b3adeaae755240e9886ad964f208c037": {
          "model_module": "@jupyter-widgets/controls",
          "model_name": "FloatProgressModel",
          "model_module_version": "1.5.0",
          "state": {
            "_dom_classes": [],
            "_model_module": "@jupyter-widgets/controls",
            "_model_module_version": "1.5.0",
            "_model_name": "FloatProgressModel",
            "_view_count": null,
            "_view_module": "@jupyter-widgets/controls",
            "_view_module_version": "1.5.0",
            "_view_name": "ProgressView",
            "bar_style": "success",
            "description": "",
            "description_tooltip": null,
            "layout": "IPY_MODEL_0dc0cf7a6281451498363f3aab827c91",
            "max": 553,
            "min": 0,
            "orientation": "horizontal",
            "style": "IPY_MODEL_21a6947ce08a4cc886517a0a19e8838f",
            "value": 553
          }
        },
        "e24a376783f24abbbe9a03e361830ac4": {
          "model_module": "@jupyter-widgets/controls",
          "model_name": "HTMLModel",
          "model_module_version": "1.5.0",
          "state": {
            "_dom_classes": [],
            "_model_module": "@jupyter-widgets/controls",
            "_model_module_version": "1.5.0",
            "_model_name": "HTMLModel",
            "_view_count": null,
            "_view_module": "@jupyter-widgets/controls",
            "_view_module_version": "1.5.0",
            "_view_name": "HTMLView",
            "description": "",
            "description_tooltip": null,
            "layout": "IPY_MODEL_5800760d1a2b404d8e73163a163caca3",
            "placeholder": "​",
            "style": "IPY_MODEL_4dba821111d24ac0a5475ef2a1a5a77c",
            "value": " 553/553 [00:00&lt;00:00, 17.3kB/s]"
          }
        },
        "7752f3b8e0fa46a1b1daf8606dc17c10": {
          "model_module": "@jupyter-widgets/base",
          "model_name": "LayoutModel",
          "model_module_version": "1.2.0",
          "state": {
            "_model_module": "@jupyter-widgets/base",
            "_model_module_version": "1.2.0",
            "_model_name": "LayoutModel",
            "_view_count": null,
            "_view_module": "@jupyter-widgets/base",
            "_view_module_version": "1.2.0",
            "_view_name": "LayoutView",
            "align_content": null,
            "align_items": null,
            "align_self": null,
            "border": null,
            "bottom": null,
            "display": null,
            "flex": null,
            "flex_flow": null,
            "grid_area": null,
            "grid_auto_columns": null,
            "grid_auto_flow": null,
            "grid_auto_rows": null,
            "grid_column": null,
            "grid_gap": null,
            "grid_row": null,
            "grid_template_areas": null,
            "grid_template_columns": null,
            "grid_template_rows": null,
            "height": null,
            "justify_content": null,
            "justify_items": null,
            "left": null,
            "margin": null,
            "max_height": null,
            "max_width": null,
            "min_height": null,
            "min_width": null,
            "object_fit": null,
            "object_position": null,
            "order": null,
            "overflow": null,
            "overflow_x": null,
            "overflow_y": null,
            "padding": null,
            "right": null,
            "top": null,
            "visibility": null,
            "width": null
          }
        },
        "32f5085da2694f4d8cf91c7c47000d14": {
          "model_module": "@jupyter-widgets/base",
          "model_name": "LayoutModel",
          "model_module_version": "1.2.0",
          "state": {
            "_model_module": "@jupyter-widgets/base",
            "_model_module_version": "1.2.0",
            "_model_name": "LayoutModel",
            "_view_count": null,
            "_view_module": "@jupyter-widgets/base",
            "_view_module_version": "1.2.0",
            "_view_name": "LayoutView",
            "align_content": null,
            "align_items": null,
            "align_self": null,
            "border": null,
            "bottom": null,
            "display": null,
            "flex": null,
            "flex_flow": null,
            "grid_area": null,
            "grid_auto_columns": null,
            "grid_auto_flow": null,
            "grid_auto_rows": null,
            "grid_column": null,
            "grid_gap": null,
            "grid_row": null,
            "grid_template_areas": null,
            "grid_template_columns": null,
            "grid_template_rows": null,
            "height": null,
            "justify_content": null,
            "justify_items": null,
            "left": null,
            "margin": null,
            "max_height": null,
            "max_width": null,
            "min_height": null,
            "min_width": null,
            "object_fit": null,
            "object_position": null,
            "order": null,
            "overflow": null,
            "overflow_x": null,
            "overflow_y": null,
            "padding": null,
            "right": null,
            "top": null,
            "visibility": null,
            "width": null
          }
        },
        "8d4e7953156444b0b878d46350ef9584": {
          "model_module": "@jupyter-widgets/controls",
          "model_name": "DescriptionStyleModel",
          "model_module_version": "1.5.0",
          "state": {
            "_model_module": "@jupyter-widgets/controls",
            "_model_module_version": "1.5.0",
            "_model_name": "DescriptionStyleModel",
            "_view_count": null,
            "_view_module": "@jupyter-widgets/base",
            "_view_module_version": "1.2.0",
            "_view_name": "StyleView",
            "description_width": ""
          }
        },
        "0dc0cf7a6281451498363f3aab827c91": {
          "model_module": "@jupyter-widgets/base",
          "model_name": "LayoutModel",
          "model_module_version": "1.2.0",
          "state": {
            "_model_module": "@jupyter-widgets/base",
            "_model_module_version": "1.2.0",
            "_model_name": "LayoutModel",
            "_view_count": null,
            "_view_module": "@jupyter-widgets/base",
            "_view_module_version": "1.2.0",
            "_view_name": "LayoutView",
            "align_content": null,
            "align_items": null,
            "align_self": null,
            "border": null,
            "bottom": null,
            "display": null,
            "flex": null,
            "flex_flow": null,
            "grid_area": null,
            "grid_auto_columns": null,
            "grid_auto_flow": null,
            "grid_auto_rows": null,
            "grid_column": null,
            "grid_gap": null,
            "grid_row": null,
            "grid_template_areas": null,
            "grid_template_columns": null,
            "grid_template_rows": null,
            "height": null,
            "justify_content": null,
            "justify_items": null,
            "left": null,
            "margin": null,
            "max_height": null,
            "max_width": null,
            "min_height": null,
            "min_width": null,
            "object_fit": null,
            "object_position": null,
            "order": null,
            "overflow": null,
            "overflow_x": null,
            "overflow_y": null,
            "padding": null,
            "right": null,
            "top": null,
            "visibility": null,
            "width": null
          }
        },
        "21a6947ce08a4cc886517a0a19e8838f": {
          "model_module": "@jupyter-widgets/controls",
          "model_name": "ProgressStyleModel",
          "model_module_version": "1.5.0",
          "state": {
            "_model_module": "@jupyter-widgets/controls",
            "_model_module_version": "1.5.0",
            "_model_name": "ProgressStyleModel",
            "_view_count": null,
            "_view_module": "@jupyter-widgets/base",
            "_view_module_version": "1.2.0",
            "_view_name": "StyleView",
            "bar_color": null,
            "description_width": ""
          }
        },
        "5800760d1a2b404d8e73163a163caca3": {
          "model_module": "@jupyter-widgets/base",
          "model_name": "LayoutModel",
          "model_module_version": "1.2.0",
          "state": {
            "_model_module": "@jupyter-widgets/base",
            "_model_module_version": "1.2.0",
            "_model_name": "LayoutModel",
            "_view_count": null,
            "_view_module": "@jupyter-widgets/base",
            "_view_module_version": "1.2.0",
            "_view_name": "LayoutView",
            "align_content": null,
            "align_items": null,
            "align_self": null,
            "border": null,
            "bottom": null,
            "display": null,
            "flex": null,
            "flex_flow": null,
            "grid_area": null,
            "grid_auto_columns": null,
            "grid_auto_flow": null,
            "grid_auto_rows": null,
            "grid_column": null,
            "grid_gap": null,
            "grid_row": null,
            "grid_template_areas": null,
            "grid_template_columns": null,
            "grid_template_rows": null,
            "height": null,
            "justify_content": null,
            "justify_items": null,
            "left": null,
            "margin": null,
            "max_height": null,
            "max_width": null,
            "min_height": null,
            "min_width": null,
            "object_fit": null,
            "object_position": null,
            "order": null,
            "overflow": null,
            "overflow_x": null,
            "overflow_y": null,
            "padding": null,
            "right": null,
            "top": null,
            "visibility": null,
            "width": null
          }
        },
        "4dba821111d24ac0a5475ef2a1a5a77c": {
          "model_module": "@jupyter-widgets/controls",
          "model_name": "DescriptionStyleModel",
          "model_module_version": "1.5.0",
          "state": {
            "_model_module": "@jupyter-widgets/controls",
            "_model_module_version": "1.5.0",
            "_model_name": "DescriptionStyleModel",
            "_view_count": null,
            "_view_module": "@jupyter-widgets/base",
            "_view_module_version": "1.2.0",
            "_view_name": "StyleView",
            "description_width": ""
          }
        },
        "fa7090bf648f4b86a017a58b56a01470": {
          "model_module": "@jupyter-widgets/controls",
          "model_name": "HBoxModel",
          "model_module_version": "1.5.0",
          "state": {
            "_dom_classes": [],
            "_model_module": "@jupyter-widgets/controls",
            "_model_module_version": "1.5.0",
            "_model_name": "HBoxModel",
            "_view_count": null,
            "_view_module": "@jupyter-widgets/controls",
            "_view_module_version": "1.5.0",
            "_view_name": "HBoxView",
            "box_style": "",
            "children": [
              "IPY_MODEL_ed5721422c224fbcb4fbacd4a5a5dba7",
              "IPY_MODEL_20f3ab1759f745c195b9a1857d4a02c5",
              "IPY_MODEL_d4802b91d558470685f4500937179c5d"
            ],
            "layout": "IPY_MODEL_4a156241340b471b8d4acc20215ae2e2"
          }
        },
        "ed5721422c224fbcb4fbacd4a5a5dba7": {
          "model_module": "@jupyter-widgets/controls",
          "model_name": "HTMLModel",
          "model_module_version": "1.5.0",
          "state": {
            "_dom_classes": [],
            "_model_module": "@jupyter-widgets/controls",
            "_model_module_version": "1.5.0",
            "_model_name": "HTMLModel",
            "_view_count": null,
            "_view_module": "@jupyter-widgets/controls",
            "_view_module_version": "1.5.0",
            "_view_name": "HTMLView",
            "description": "",
            "description_tooltip": null,
            "layout": "IPY_MODEL_fac10192b6f7445092434a123adffcf7",
            "placeholder": "​",
            "style": "IPY_MODEL_be2f8b2866cc4a79990a9c2d5d20b9fb",
            "value": "Downloading spiece.model: 100%"
          }
        },
        "20f3ab1759f745c195b9a1857d4a02c5": {
          "model_module": "@jupyter-widgets/controls",
          "model_name": "FloatProgressModel",
          "model_module_version": "1.5.0",
          "state": {
            "_dom_classes": [],
            "_model_module": "@jupyter-widgets/controls",
            "_model_module_version": "1.5.0",
            "_model_name": "FloatProgressModel",
            "_view_count": null,
            "_view_module": "@jupyter-widgets/controls",
            "_view_module_version": "1.5.0",
            "_view_name": "ProgressView",
            "bar_style": "success",
            "description": "",
            "description_tooltip": null,
            "layout": "IPY_MODEL_46edc396574040d3952decfcd35a3595",
            "max": 4309802,
            "min": 0,
            "orientation": "horizontal",
            "style": "IPY_MODEL_c1b4ceed7c4543ae83a33fdabe9553fc",
            "value": 4309802
          }
        },
        "d4802b91d558470685f4500937179c5d": {
          "model_module": "@jupyter-widgets/controls",
          "model_name": "HTMLModel",
          "model_module_version": "1.5.0",
          "state": {
            "_dom_classes": [],
            "_model_module": "@jupyter-widgets/controls",
            "_model_module_version": "1.5.0",
            "_model_name": "HTMLModel",
            "_view_count": null,
            "_view_module": "@jupyter-widgets/controls",
            "_view_module_version": "1.5.0",
            "_view_name": "HTMLView",
            "description": "",
            "description_tooltip": null,
            "layout": "IPY_MODEL_65022c28b6fc4cb398f2abf6aa7993b6",
            "placeholder": "​",
            "style": "IPY_MODEL_7ca39e02f904496db9015f4ea050336a",
            "value": " 4.11M/4.11M [00:00&lt;00:00, 10.2MB/s]"
          }
        },
        "4a156241340b471b8d4acc20215ae2e2": {
          "model_module": "@jupyter-widgets/base",
          "model_name": "LayoutModel",
          "model_module_version": "1.2.0",
          "state": {
            "_model_module": "@jupyter-widgets/base",
            "_model_module_version": "1.2.0",
            "_model_name": "LayoutModel",
            "_view_count": null,
            "_view_module": "@jupyter-widgets/base",
            "_view_module_version": "1.2.0",
            "_view_name": "LayoutView",
            "align_content": null,
            "align_items": null,
            "align_self": null,
            "border": null,
            "bottom": null,
            "display": null,
            "flex": null,
            "flex_flow": null,
            "grid_area": null,
            "grid_auto_columns": null,
            "grid_auto_flow": null,
            "grid_auto_rows": null,
            "grid_column": null,
            "grid_gap": null,
            "grid_row": null,
            "grid_template_areas": null,
            "grid_template_columns": null,
            "grid_template_rows": null,
            "height": null,
            "justify_content": null,
            "justify_items": null,
            "left": null,
            "margin": null,
            "max_height": null,
            "max_width": null,
            "min_height": null,
            "min_width": null,
            "object_fit": null,
            "object_position": null,
            "order": null,
            "overflow": null,
            "overflow_x": null,
            "overflow_y": null,
            "padding": null,
            "right": null,
            "top": null,
            "visibility": null,
            "width": null
          }
        },
        "fac10192b6f7445092434a123adffcf7": {
          "model_module": "@jupyter-widgets/base",
          "model_name": "LayoutModel",
          "model_module_version": "1.2.0",
          "state": {
            "_model_module": "@jupyter-widgets/base",
            "_model_module_version": "1.2.0",
            "_model_name": "LayoutModel",
            "_view_count": null,
            "_view_module": "@jupyter-widgets/base",
            "_view_module_version": "1.2.0",
            "_view_name": "LayoutView",
            "align_content": null,
            "align_items": null,
            "align_self": null,
            "border": null,
            "bottom": null,
            "display": null,
            "flex": null,
            "flex_flow": null,
            "grid_area": null,
            "grid_auto_columns": null,
            "grid_auto_flow": null,
            "grid_auto_rows": null,
            "grid_column": null,
            "grid_gap": null,
            "grid_row": null,
            "grid_template_areas": null,
            "grid_template_columns": null,
            "grid_template_rows": null,
            "height": null,
            "justify_content": null,
            "justify_items": null,
            "left": null,
            "margin": null,
            "max_height": null,
            "max_width": null,
            "min_height": null,
            "min_width": null,
            "object_fit": null,
            "object_position": null,
            "order": null,
            "overflow": null,
            "overflow_x": null,
            "overflow_y": null,
            "padding": null,
            "right": null,
            "top": null,
            "visibility": null,
            "width": null
          }
        },
        "be2f8b2866cc4a79990a9c2d5d20b9fb": {
          "model_module": "@jupyter-widgets/controls",
          "model_name": "DescriptionStyleModel",
          "model_module_version": "1.5.0",
          "state": {
            "_model_module": "@jupyter-widgets/controls",
            "_model_module_version": "1.5.0",
            "_model_name": "DescriptionStyleModel",
            "_view_count": null,
            "_view_module": "@jupyter-widgets/base",
            "_view_module_version": "1.2.0",
            "_view_name": "StyleView",
            "description_width": ""
          }
        },
        "46edc396574040d3952decfcd35a3595": {
          "model_module": "@jupyter-widgets/base",
          "model_name": "LayoutModel",
          "model_module_version": "1.2.0",
          "state": {
            "_model_module": "@jupyter-widgets/base",
            "_model_module_version": "1.2.0",
            "_model_name": "LayoutModel",
            "_view_count": null,
            "_view_module": "@jupyter-widgets/base",
            "_view_module_version": "1.2.0",
            "_view_name": "LayoutView",
            "align_content": null,
            "align_items": null,
            "align_self": null,
            "border": null,
            "bottom": null,
            "display": null,
            "flex": null,
            "flex_flow": null,
            "grid_area": null,
            "grid_auto_columns": null,
            "grid_auto_flow": null,
            "grid_auto_rows": null,
            "grid_column": null,
            "grid_gap": null,
            "grid_row": null,
            "grid_template_areas": null,
            "grid_template_columns": null,
            "grid_template_rows": null,
            "height": null,
            "justify_content": null,
            "justify_items": null,
            "left": null,
            "margin": null,
            "max_height": null,
            "max_width": null,
            "min_height": null,
            "min_width": null,
            "object_fit": null,
            "object_position": null,
            "order": null,
            "overflow": null,
            "overflow_x": null,
            "overflow_y": null,
            "padding": null,
            "right": null,
            "top": null,
            "visibility": null,
            "width": null
          }
        },
        "c1b4ceed7c4543ae83a33fdabe9553fc": {
          "model_module": "@jupyter-widgets/controls",
          "model_name": "ProgressStyleModel",
          "model_module_version": "1.5.0",
          "state": {
            "_model_module": "@jupyter-widgets/controls",
            "_model_module_version": "1.5.0",
            "_model_name": "ProgressStyleModel",
            "_view_count": null,
            "_view_module": "@jupyter-widgets/base",
            "_view_module_version": "1.2.0",
            "_view_name": "StyleView",
            "bar_color": null,
            "description_width": ""
          }
        },
        "65022c28b6fc4cb398f2abf6aa7993b6": {
          "model_module": "@jupyter-widgets/base",
          "model_name": "LayoutModel",
          "model_module_version": "1.2.0",
          "state": {
            "_model_module": "@jupyter-widgets/base",
            "_model_module_version": "1.2.0",
            "_model_name": "LayoutModel",
            "_view_count": null,
            "_view_module": "@jupyter-widgets/base",
            "_view_module_version": "1.2.0",
            "_view_name": "LayoutView",
            "align_content": null,
            "align_items": null,
            "align_self": null,
            "border": null,
            "bottom": null,
            "display": null,
            "flex": null,
            "flex_flow": null,
            "grid_area": null,
            "grid_auto_columns": null,
            "grid_auto_flow": null,
            "grid_auto_rows": null,
            "grid_column": null,
            "grid_gap": null,
            "grid_row": null,
            "grid_template_areas": null,
            "grid_template_columns": null,
            "grid_template_rows": null,
            "height": null,
            "justify_content": null,
            "justify_items": null,
            "left": null,
            "margin": null,
            "max_height": null,
            "max_width": null,
            "min_height": null,
            "min_width": null,
            "object_fit": null,
            "object_position": null,
            "order": null,
            "overflow": null,
            "overflow_x": null,
            "overflow_y": null,
            "padding": null,
            "right": null,
            "top": null,
            "visibility": null,
            "width": null
          }
        },
        "7ca39e02f904496db9015f4ea050336a": {
          "model_module": "@jupyter-widgets/controls",
          "model_name": "DescriptionStyleModel",
          "model_module_version": "1.5.0",
          "state": {
            "_model_module": "@jupyter-widgets/controls",
            "_model_module_version": "1.5.0",
            "_model_name": "DescriptionStyleModel",
            "_view_count": null,
            "_view_module": "@jupyter-widgets/base",
            "_view_module_version": "1.2.0",
            "_view_name": "StyleView",
            "description_width": ""
          }
        },
        "f4e5de40f4b946a082acd0ffb1583c30": {
          "model_module": "@jupyter-widgets/controls",
          "model_name": "HBoxModel",
          "model_module_version": "1.5.0",
          "state": {
            "_dom_classes": [],
            "_model_module": "@jupyter-widgets/controls",
            "_model_module_version": "1.5.0",
            "_model_name": "HBoxModel",
            "_view_count": null,
            "_view_module": "@jupyter-widgets/controls",
            "_view_module_version": "1.5.0",
            "_view_name": "HBoxView",
            "box_style": "",
            "children": [
              "IPY_MODEL_c2e3d9714c4d45a3a251ae38d7141191",
              "IPY_MODEL_416329ec5ff34990aa9408137b5baf82",
              "IPY_MODEL_0dff4820638b47199bd1dfc407a78942"
            ],
            "layout": "IPY_MODEL_d85a3ce2330142eebe0ba57cc6ed279d"
          }
        },
        "c2e3d9714c4d45a3a251ae38d7141191": {
          "model_module": "@jupyter-widgets/controls",
          "model_name": "HTMLModel",
          "model_module_version": "1.5.0",
          "state": {
            "_dom_classes": [],
            "_model_module": "@jupyter-widgets/controls",
            "_model_module_version": "1.5.0",
            "_model_name": "HTMLModel",
            "_view_count": null,
            "_view_module": "@jupyter-widgets/controls",
            "_view_module_version": "1.5.0",
            "_view_name": "HTMLView",
            "description": "",
            "description_tooltip": null,
            "layout": "IPY_MODEL_7ef609dba421421483f3546cb12b1c16",
            "placeholder": "​",
            "style": "IPY_MODEL_8a518c4d9a884c389ba40a2e2e79a713",
            "value": "Downloading special_tokens_map.json: 100%"
          }
        },
        "416329ec5ff34990aa9408137b5baf82": {
          "model_module": "@jupyter-widgets/controls",
          "model_name": "FloatProgressModel",
          "model_module_version": "1.5.0",
          "state": {
            "_dom_classes": [],
            "_model_module": "@jupyter-widgets/controls",
            "_model_module_version": "1.5.0",
            "_model_name": "FloatProgressModel",
            "_view_count": null,
            "_view_module": "@jupyter-widgets/controls",
            "_view_module_version": "1.5.0",
            "_view_name": "ProgressView",
            "bar_style": "success",
            "description": "",
            "description_tooltip": null,
            "layout": "IPY_MODEL_e2a4bfa2e8f948548620a1483872eaf4",
            "max": 99,
            "min": 0,
            "orientation": "horizontal",
            "style": "IPY_MODEL_b4f392267d264db39ed8a01c7041b2b5",
            "value": 99
          }
        },
        "0dff4820638b47199bd1dfc407a78942": {
          "model_module": "@jupyter-widgets/controls",
          "model_name": "HTMLModel",
          "model_module_version": "1.5.0",
          "state": {
            "_dom_classes": [],
            "_model_module": "@jupyter-widgets/controls",
            "_model_module_version": "1.5.0",
            "_model_name": "HTMLModel",
            "_view_count": null,
            "_view_module": "@jupyter-widgets/controls",
            "_view_module_version": "1.5.0",
            "_view_name": "HTMLView",
            "description": "",
            "description_tooltip": null,
            "layout": "IPY_MODEL_efd04738870d4ee281045f90766d25b4",
            "placeholder": "​",
            "style": "IPY_MODEL_1d912dc6c09a4775b39bd0fed3ef549a",
            "value": " 99.0/99.0 [00:00&lt;00:00, 2.92kB/s]"
          }
        },
        "d85a3ce2330142eebe0ba57cc6ed279d": {
          "model_module": "@jupyter-widgets/base",
          "model_name": "LayoutModel",
          "model_module_version": "1.2.0",
          "state": {
            "_model_module": "@jupyter-widgets/base",
            "_model_module_version": "1.2.0",
            "_model_name": "LayoutModel",
            "_view_count": null,
            "_view_module": "@jupyter-widgets/base",
            "_view_module_version": "1.2.0",
            "_view_name": "LayoutView",
            "align_content": null,
            "align_items": null,
            "align_self": null,
            "border": null,
            "bottom": null,
            "display": null,
            "flex": null,
            "flex_flow": null,
            "grid_area": null,
            "grid_auto_columns": null,
            "grid_auto_flow": null,
            "grid_auto_rows": null,
            "grid_column": null,
            "grid_gap": null,
            "grid_row": null,
            "grid_template_areas": null,
            "grid_template_columns": null,
            "grid_template_rows": null,
            "height": null,
            "justify_content": null,
            "justify_items": null,
            "left": null,
            "margin": null,
            "max_height": null,
            "max_width": null,
            "min_height": null,
            "min_width": null,
            "object_fit": null,
            "object_position": null,
            "order": null,
            "overflow": null,
            "overflow_x": null,
            "overflow_y": null,
            "padding": null,
            "right": null,
            "top": null,
            "visibility": null,
            "width": null
          }
        },
        "7ef609dba421421483f3546cb12b1c16": {
          "model_module": "@jupyter-widgets/base",
          "model_name": "LayoutModel",
          "model_module_version": "1.2.0",
          "state": {
            "_model_module": "@jupyter-widgets/base",
            "_model_module_version": "1.2.0",
            "_model_name": "LayoutModel",
            "_view_count": null,
            "_view_module": "@jupyter-widgets/base",
            "_view_module_version": "1.2.0",
            "_view_name": "LayoutView",
            "align_content": null,
            "align_items": null,
            "align_self": null,
            "border": null,
            "bottom": null,
            "display": null,
            "flex": null,
            "flex_flow": null,
            "grid_area": null,
            "grid_auto_columns": null,
            "grid_auto_flow": null,
            "grid_auto_rows": null,
            "grid_column": null,
            "grid_gap": null,
            "grid_row": null,
            "grid_template_areas": null,
            "grid_template_columns": null,
            "grid_template_rows": null,
            "height": null,
            "justify_content": null,
            "justify_items": null,
            "left": null,
            "margin": null,
            "max_height": null,
            "max_width": null,
            "min_height": null,
            "min_width": null,
            "object_fit": null,
            "object_position": null,
            "order": null,
            "overflow": null,
            "overflow_x": null,
            "overflow_y": null,
            "padding": null,
            "right": null,
            "top": null,
            "visibility": null,
            "width": null
          }
        },
        "8a518c4d9a884c389ba40a2e2e79a713": {
          "model_module": "@jupyter-widgets/controls",
          "model_name": "DescriptionStyleModel",
          "model_module_version": "1.5.0",
          "state": {
            "_model_module": "@jupyter-widgets/controls",
            "_model_module_version": "1.5.0",
            "_model_name": "DescriptionStyleModel",
            "_view_count": null,
            "_view_module": "@jupyter-widgets/base",
            "_view_module_version": "1.2.0",
            "_view_name": "StyleView",
            "description_width": ""
          }
        },
        "e2a4bfa2e8f948548620a1483872eaf4": {
          "model_module": "@jupyter-widgets/base",
          "model_name": "LayoutModel",
          "model_module_version": "1.2.0",
          "state": {
            "_model_module": "@jupyter-widgets/base",
            "_model_module_version": "1.2.0",
            "_model_name": "LayoutModel",
            "_view_count": null,
            "_view_module": "@jupyter-widgets/base",
            "_view_module_version": "1.2.0",
            "_view_name": "LayoutView",
            "align_content": null,
            "align_items": null,
            "align_self": null,
            "border": null,
            "bottom": null,
            "display": null,
            "flex": null,
            "flex_flow": null,
            "grid_area": null,
            "grid_auto_columns": null,
            "grid_auto_flow": null,
            "grid_auto_rows": null,
            "grid_column": null,
            "grid_gap": null,
            "grid_row": null,
            "grid_template_areas": null,
            "grid_template_columns": null,
            "grid_template_rows": null,
            "height": null,
            "justify_content": null,
            "justify_items": null,
            "left": null,
            "margin": null,
            "max_height": null,
            "max_width": null,
            "min_height": null,
            "min_width": null,
            "object_fit": null,
            "object_position": null,
            "order": null,
            "overflow": null,
            "overflow_x": null,
            "overflow_y": null,
            "padding": null,
            "right": null,
            "top": null,
            "visibility": null,
            "width": null
          }
        },
        "b4f392267d264db39ed8a01c7041b2b5": {
          "model_module": "@jupyter-widgets/controls",
          "model_name": "ProgressStyleModel",
          "model_module_version": "1.5.0",
          "state": {
            "_model_module": "@jupyter-widgets/controls",
            "_model_module_version": "1.5.0",
            "_model_name": "ProgressStyleModel",
            "_view_count": null,
            "_view_module": "@jupyter-widgets/base",
            "_view_module_version": "1.2.0",
            "_view_name": "StyleView",
            "bar_color": null,
            "description_width": ""
          }
        },
        "efd04738870d4ee281045f90766d25b4": {
          "model_module": "@jupyter-widgets/base",
          "model_name": "LayoutModel",
          "model_module_version": "1.2.0",
          "state": {
            "_model_module": "@jupyter-widgets/base",
            "_model_module_version": "1.2.0",
            "_model_name": "LayoutModel",
            "_view_count": null,
            "_view_module": "@jupyter-widgets/base",
            "_view_module_version": "1.2.0",
            "_view_name": "LayoutView",
            "align_content": null,
            "align_items": null,
            "align_self": null,
            "border": null,
            "bottom": null,
            "display": null,
            "flex": null,
            "flex_flow": null,
            "grid_area": null,
            "grid_auto_columns": null,
            "grid_auto_flow": null,
            "grid_auto_rows": null,
            "grid_column": null,
            "grid_gap": null,
            "grid_row": null,
            "grid_template_areas": null,
            "grid_template_columns": null,
            "grid_template_rows": null,
            "height": null,
            "justify_content": null,
            "justify_items": null,
            "left": null,
            "margin": null,
            "max_height": null,
            "max_width": null,
            "min_height": null,
            "min_width": null,
            "object_fit": null,
            "object_position": null,
            "order": null,
            "overflow": null,
            "overflow_x": null,
            "overflow_y": null,
            "padding": null,
            "right": null,
            "top": null,
            "visibility": null,
            "width": null
          }
        },
        "1d912dc6c09a4775b39bd0fed3ef549a": {
          "model_module": "@jupyter-widgets/controls",
          "model_name": "DescriptionStyleModel",
          "model_module_version": "1.5.0",
          "state": {
            "_model_module": "@jupyter-widgets/controls",
            "_model_module_version": "1.5.0",
            "_model_name": "DescriptionStyleModel",
            "_view_count": null,
            "_view_module": "@jupyter-widgets/base",
            "_view_module_version": "1.2.0",
            "_view_name": "StyleView",
            "description_width": ""
          }
        },
        "ac070e09661d42b2983c127b1937e808": {
          "model_module": "@jupyter-widgets/controls",
          "model_name": "HBoxModel",
          "model_module_version": "1.5.0",
          "state": {
            "_dom_classes": [],
            "_model_module": "@jupyter-widgets/controls",
            "_model_module_version": "1.5.0",
            "_model_name": "HBoxModel",
            "_view_count": null,
            "_view_module": "@jupyter-widgets/controls",
            "_view_module_version": "1.5.0",
            "_view_name": "HBoxView",
            "box_style": "",
            "children": [
              "IPY_MODEL_f1171996bb21479ea69bc833e6501533",
              "IPY_MODEL_e7cc4e68cdb347d0bf9bfdd39e5fb054",
              "IPY_MODEL_1dd655aa044d48b0ac7189de8a212742"
            ],
            "layout": "IPY_MODEL_33337c1adbb54ceaa320cb4000bc87c5"
          }
        },
        "f1171996bb21479ea69bc833e6501533": {
          "model_module": "@jupyter-widgets/controls",
          "model_name": "HTMLModel",
          "model_module_version": "1.5.0",
          "state": {
            "_dom_classes": [],
            "_model_module": "@jupyter-widgets/controls",
            "_model_module_version": "1.5.0",
            "_model_name": "HTMLModel",
            "_view_count": null,
            "_view_module": "@jupyter-widgets/controls",
            "_view_module_version": "1.5.0",
            "_view_name": "HTMLView",
            "description": "",
            "description_tooltip": null,
            "layout": "IPY_MODEL_ce5a06e91d0b4ce79fd3fecd2bc6536c",
            "placeholder": "​",
            "style": "IPY_MODEL_1cd480980bb24ea2a8a80a0beec01a36",
            "value": "100%"
          }
        },
        "e7cc4e68cdb347d0bf9bfdd39e5fb054": {
          "model_module": "@jupyter-widgets/controls",
          "model_name": "FloatProgressModel",
          "model_module_version": "1.5.0",
          "state": {
            "_dom_classes": [],
            "_model_module": "@jupyter-widgets/controls",
            "_model_module_version": "1.5.0",
            "_model_name": "FloatProgressModel",
            "_view_count": null,
            "_view_module": "@jupyter-widgets/controls",
            "_view_module_version": "1.5.0",
            "_view_name": "ProgressView",
            "bar_style": "success",
            "description": "",
            "description_tooltip": null,
            "layout": "IPY_MODEL_44e6d715fa7247998bda63ef5c80bf4a",
            "max": 10,
            "min": 0,
            "orientation": "horizontal",
            "style": "IPY_MODEL_73a6053db1594d70b4b961c180a8460c",
            "value": 10
          }
        },
        "1dd655aa044d48b0ac7189de8a212742": {
          "model_module": "@jupyter-widgets/controls",
          "model_name": "HTMLModel",
          "model_module_version": "1.5.0",
          "state": {
            "_dom_classes": [],
            "_model_module": "@jupyter-widgets/controls",
            "_model_module_version": "1.5.0",
            "_model_name": "HTMLModel",
            "_view_count": null,
            "_view_module": "@jupyter-widgets/controls",
            "_view_module_version": "1.5.0",
            "_view_name": "HTMLView",
            "description": "",
            "description_tooltip": null,
            "layout": "IPY_MODEL_91f7b72840a4429faf86646801d0ba79",
            "placeholder": "​",
            "style": "IPY_MODEL_81caf511c83745db9512854c10d3c70b",
            "value": " 10/10 [00:01&lt;00:00,  7.13ba/s]"
          }
        },
        "33337c1adbb54ceaa320cb4000bc87c5": {
          "model_module": "@jupyter-widgets/base",
          "model_name": "LayoutModel",
          "model_module_version": "1.2.0",
          "state": {
            "_model_module": "@jupyter-widgets/base",
            "_model_module_version": "1.2.0",
            "_model_name": "LayoutModel",
            "_view_count": null,
            "_view_module": "@jupyter-widgets/base",
            "_view_module_version": "1.2.0",
            "_view_name": "LayoutView",
            "align_content": null,
            "align_items": null,
            "align_self": null,
            "border": null,
            "bottom": null,
            "display": null,
            "flex": null,
            "flex_flow": null,
            "grid_area": null,
            "grid_auto_columns": null,
            "grid_auto_flow": null,
            "grid_auto_rows": null,
            "grid_column": null,
            "grid_gap": null,
            "grid_row": null,
            "grid_template_areas": null,
            "grid_template_columns": null,
            "grid_template_rows": null,
            "height": null,
            "justify_content": null,
            "justify_items": null,
            "left": null,
            "margin": null,
            "max_height": null,
            "max_width": null,
            "min_height": null,
            "min_width": null,
            "object_fit": null,
            "object_position": null,
            "order": null,
            "overflow": null,
            "overflow_x": null,
            "overflow_y": null,
            "padding": null,
            "right": null,
            "top": null,
            "visibility": null,
            "width": null
          }
        },
        "ce5a06e91d0b4ce79fd3fecd2bc6536c": {
          "model_module": "@jupyter-widgets/base",
          "model_name": "LayoutModel",
          "model_module_version": "1.2.0",
          "state": {
            "_model_module": "@jupyter-widgets/base",
            "_model_module_version": "1.2.0",
            "_model_name": "LayoutModel",
            "_view_count": null,
            "_view_module": "@jupyter-widgets/base",
            "_view_module_version": "1.2.0",
            "_view_name": "LayoutView",
            "align_content": null,
            "align_items": null,
            "align_self": null,
            "border": null,
            "bottom": null,
            "display": null,
            "flex": null,
            "flex_flow": null,
            "grid_area": null,
            "grid_auto_columns": null,
            "grid_auto_flow": null,
            "grid_auto_rows": null,
            "grid_column": null,
            "grid_gap": null,
            "grid_row": null,
            "grid_template_areas": null,
            "grid_template_columns": null,
            "grid_template_rows": null,
            "height": null,
            "justify_content": null,
            "justify_items": null,
            "left": null,
            "margin": null,
            "max_height": null,
            "max_width": null,
            "min_height": null,
            "min_width": null,
            "object_fit": null,
            "object_position": null,
            "order": null,
            "overflow": null,
            "overflow_x": null,
            "overflow_y": null,
            "padding": null,
            "right": null,
            "top": null,
            "visibility": null,
            "width": null
          }
        },
        "1cd480980bb24ea2a8a80a0beec01a36": {
          "model_module": "@jupyter-widgets/controls",
          "model_name": "DescriptionStyleModel",
          "model_module_version": "1.5.0",
          "state": {
            "_model_module": "@jupyter-widgets/controls",
            "_model_module_version": "1.5.0",
            "_model_name": "DescriptionStyleModel",
            "_view_count": null,
            "_view_module": "@jupyter-widgets/base",
            "_view_module_version": "1.2.0",
            "_view_name": "StyleView",
            "description_width": ""
          }
        },
        "44e6d715fa7247998bda63ef5c80bf4a": {
          "model_module": "@jupyter-widgets/base",
          "model_name": "LayoutModel",
          "model_module_version": "1.2.0",
          "state": {
            "_model_module": "@jupyter-widgets/base",
            "_model_module_version": "1.2.0",
            "_model_name": "LayoutModel",
            "_view_count": null,
            "_view_module": "@jupyter-widgets/base",
            "_view_module_version": "1.2.0",
            "_view_name": "LayoutView",
            "align_content": null,
            "align_items": null,
            "align_self": null,
            "border": null,
            "bottom": null,
            "display": null,
            "flex": null,
            "flex_flow": null,
            "grid_area": null,
            "grid_auto_columns": null,
            "grid_auto_flow": null,
            "grid_auto_rows": null,
            "grid_column": null,
            "grid_gap": null,
            "grid_row": null,
            "grid_template_areas": null,
            "grid_template_columns": null,
            "grid_template_rows": null,
            "height": null,
            "justify_content": null,
            "justify_items": null,
            "left": null,
            "margin": null,
            "max_height": null,
            "max_width": null,
            "min_height": null,
            "min_width": null,
            "object_fit": null,
            "object_position": null,
            "order": null,
            "overflow": null,
            "overflow_x": null,
            "overflow_y": null,
            "padding": null,
            "right": null,
            "top": null,
            "visibility": null,
            "width": null
          }
        },
        "73a6053db1594d70b4b961c180a8460c": {
          "model_module": "@jupyter-widgets/controls",
          "model_name": "ProgressStyleModel",
          "model_module_version": "1.5.0",
          "state": {
            "_model_module": "@jupyter-widgets/controls",
            "_model_module_version": "1.5.0",
            "_model_name": "ProgressStyleModel",
            "_view_count": null,
            "_view_module": "@jupyter-widgets/base",
            "_view_module_version": "1.2.0",
            "_view_name": "StyleView",
            "bar_color": null,
            "description_width": ""
          }
        },
        "91f7b72840a4429faf86646801d0ba79": {
          "model_module": "@jupyter-widgets/base",
          "model_name": "LayoutModel",
          "model_module_version": "1.2.0",
          "state": {
            "_model_module": "@jupyter-widgets/base",
            "_model_module_version": "1.2.0",
            "_model_name": "LayoutModel",
            "_view_count": null,
            "_view_module": "@jupyter-widgets/base",
            "_view_module_version": "1.2.0",
            "_view_name": "LayoutView",
            "align_content": null,
            "align_items": null,
            "align_self": null,
            "border": null,
            "bottom": null,
            "display": null,
            "flex": null,
            "flex_flow": null,
            "grid_area": null,
            "grid_auto_columns": null,
            "grid_auto_flow": null,
            "grid_auto_rows": null,
            "grid_column": null,
            "grid_gap": null,
            "grid_row": null,
            "grid_template_areas": null,
            "grid_template_columns": null,
            "grid_template_rows": null,
            "height": null,
            "justify_content": null,
            "justify_items": null,
            "left": null,
            "margin": null,
            "max_height": null,
            "max_width": null,
            "min_height": null,
            "min_width": null,
            "object_fit": null,
            "object_position": null,
            "order": null,
            "overflow": null,
            "overflow_x": null,
            "overflow_y": null,
            "padding": null,
            "right": null,
            "top": null,
            "visibility": null,
            "width": null
          }
        },
        "81caf511c83745db9512854c10d3c70b": {
          "model_module": "@jupyter-widgets/controls",
          "model_name": "DescriptionStyleModel",
          "model_module_version": "1.5.0",
          "state": {
            "_model_module": "@jupyter-widgets/controls",
            "_model_module_version": "1.5.0",
            "_model_name": "DescriptionStyleModel",
            "_view_count": null,
            "_view_module": "@jupyter-widgets/base",
            "_view_module_version": "1.2.0",
            "_view_name": "StyleView",
            "description_width": ""
          }
        },
        "501f179ceaf94602bfcb6aeaa3058482": {
          "model_module": "@jupyter-widgets/controls",
          "model_name": "HBoxModel",
          "model_module_version": "1.5.0",
          "state": {
            "_dom_classes": [],
            "_model_module": "@jupyter-widgets/controls",
            "_model_module_version": "1.5.0",
            "_model_name": "HBoxModel",
            "_view_count": null,
            "_view_module": "@jupyter-widgets/controls",
            "_view_module_version": "1.5.0",
            "_view_name": "HBoxView",
            "box_style": "",
            "children": [
              "IPY_MODEL_367ad135629348ffacab2657430005d7",
              "IPY_MODEL_4502fbc174034ded852e2a8140f0165e",
              "IPY_MODEL_1b8bb23092ed498c9ea55517181702fd"
            ],
            "layout": "IPY_MODEL_280ab2280be24ac79053612b03f29d4c"
          }
        },
        "367ad135629348ffacab2657430005d7": {
          "model_module": "@jupyter-widgets/controls",
          "model_name": "HTMLModel",
          "model_module_version": "1.5.0",
          "state": {
            "_dom_classes": [],
            "_model_module": "@jupyter-widgets/controls",
            "_model_module_version": "1.5.0",
            "_model_name": "HTMLModel",
            "_view_count": null,
            "_view_module": "@jupyter-widgets/controls",
            "_view_module_version": "1.5.0",
            "_view_name": "HTMLView",
            "description": "",
            "description_tooltip": null,
            "layout": "IPY_MODEL_fd835c63c508478cb57bc3314362978c",
            "placeholder": "​",
            "style": "IPY_MODEL_d04c312273e34481b30feaf59b188884",
            "value": "100%"
          }
        },
        "4502fbc174034ded852e2a8140f0165e": {
          "model_module": "@jupyter-widgets/controls",
          "model_name": "FloatProgressModel",
          "model_module_version": "1.5.0",
          "state": {
            "_dom_classes": [],
            "_model_module": "@jupyter-widgets/controls",
            "_model_module_version": "1.5.0",
            "_model_name": "FloatProgressModel",
            "_view_count": null,
            "_view_module": "@jupyter-widgets/controls",
            "_view_module_version": "1.5.0",
            "_view_name": "ProgressView",
            "bar_style": "success",
            "description": "",
            "description_tooltip": null,
            "layout": "IPY_MODEL_0f51b337654b4d9eb2c35082d2aa7d52",
            "max": 1,
            "min": 0,
            "orientation": "horizontal",
            "style": "IPY_MODEL_fb9993e69b9f462cb160e16649759622",
            "value": 1
          }
        },
        "1b8bb23092ed498c9ea55517181702fd": {
          "model_module": "@jupyter-widgets/controls",
          "model_name": "HTMLModel",
          "model_module_version": "1.5.0",
          "state": {
            "_dom_classes": [],
            "_model_module": "@jupyter-widgets/controls",
            "_model_module_version": "1.5.0",
            "_model_name": "HTMLModel",
            "_view_count": null,
            "_view_module": "@jupyter-widgets/controls",
            "_view_module_version": "1.5.0",
            "_view_name": "HTMLView",
            "description": "",
            "description_tooltip": null,
            "layout": "IPY_MODEL_7f1dc75da5a64ac09d8c30f9d2d06e00",
            "placeholder": "​",
            "style": "IPY_MODEL_f1861adc94904920afdfaf4b1e606224",
            "value": " 1/1 [00:00&lt;00:00, 13.08ba/s]"
          }
        },
        "280ab2280be24ac79053612b03f29d4c": {
          "model_module": "@jupyter-widgets/base",
          "model_name": "LayoutModel",
          "model_module_version": "1.2.0",
          "state": {
            "_model_module": "@jupyter-widgets/base",
            "_model_module_version": "1.2.0",
            "_model_name": "LayoutModel",
            "_view_count": null,
            "_view_module": "@jupyter-widgets/base",
            "_view_module_version": "1.2.0",
            "_view_name": "LayoutView",
            "align_content": null,
            "align_items": null,
            "align_self": null,
            "border": null,
            "bottom": null,
            "display": null,
            "flex": null,
            "flex_flow": null,
            "grid_area": null,
            "grid_auto_columns": null,
            "grid_auto_flow": null,
            "grid_auto_rows": null,
            "grid_column": null,
            "grid_gap": null,
            "grid_row": null,
            "grid_template_areas": null,
            "grid_template_columns": null,
            "grid_template_rows": null,
            "height": null,
            "justify_content": null,
            "justify_items": null,
            "left": null,
            "margin": null,
            "max_height": null,
            "max_width": null,
            "min_height": null,
            "min_width": null,
            "object_fit": null,
            "object_position": null,
            "order": null,
            "overflow": null,
            "overflow_x": null,
            "overflow_y": null,
            "padding": null,
            "right": null,
            "top": null,
            "visibility": null,
            "width": null
          }
        },
        "fd835c63c508478cb57bc3314362978c": {
          "model_module": "@jupyter-widgets/base",
          "model_name": "LayoutModel",
          "model_module_version": "1.2.0",
          "state": {
            "_model_module": "@jupyter-widgets/base",
            "_model_module_version": "1.2.0",
            "_model_name": "LayoutModel",
            "_view_count": null,
            "_view_module": "@jupyter-widgets/base",
            "_view_module_version": "1.2.0",
            "_view_name": "LayoutView",
            "align_content": null,
            "align_items": null,
            "align_self": null,
            "border": null,
            "bottom": null,
            "display": null,
            "flex": null,
            "flex_flow": null,
            "grid_area": null,
            "grid_auto_columns": null,
            "grid_auto_flow": null,
            "grid_auto_rows": null,
            "grid_column": null,
            "grid_gap": null,
            "grid_row": null,
            "grid_template_areas": null,
            "grid_template_columns": null,
            "grid_template_rows": null,
            "height": null,
            "justify_content": null,
            "justify_items": null,
            "left": null,
            "margin": null,
            "max_height": null,
            "max_width": null,
            "min_height": null,
            "min_width": null,
            "object_fit": null,
            "object_position": null,
            "order": null,
            "overflow": null,
            "overflow_x": null,
            "overflow_y": null,
            "padding": null,
            "right": null,
            "top": null,
            "visibility": null,
            "width": null
          }
        },
        "d04c312273e34481b30feaf59b188884": {
          "model_module": "@jupyter-widgets/controls",
          "model_name": "DescriptionStyleModel",
          "model_module_version": "1.5.0",
          "state": {
            "_model_module": "@jupyter-widgets/controls",
            "_model_module_version": "1.5.0",
            "_model_name": "DescriptionStyleModel",
            "_view_count": null,
            "_view_module": "@jupyter-widgets/base",
            "_view_module_version": "1.2.0",
            "_view_name": "StyleView",
            "description_width": ""
          }
        },
        "0f51b337654b4d9eb2c35082d2aa7d52": {
          "model_module": "@jupyter-widgets/base",
          "model_name": "LayoutModel",
          "model_module_version": "1.2.0",
          "state": {
            "_model_module": "@jupyter-widgets/base",
            "_model_module_version": "1.2.0",
            "_model_name": "LayoutModel",
            "_view_count": null,
            "_view_module": "@jupyter-widgets/base",
            "_view_module_version": "1.2.0",
            "_view_name": "LayoutView",
            "align_content": null,
            "align_items": null,
            "align_self": null,
            "border": null,
            "bottom": null,
            "display": null,
            "flex": null,
            "flex_flow": null,
            "grid_area": null,
            "grid_auto_columns": null,
            "grid_auto_flow": null,
            "grid_auto_rows": null,
            "grid_column": null,
            "grid_gap": null,
            "grid_row": null,
            "grid_template_areas": null,
            "grid_template_columns": null,
            "grid_template_rows": null,
            "height": null,
            "justify_content": null,
            "justify_items": null,
            "left": null,
            "margin": null,
            "max_height": null,
            "max_width": null,
            "min_height": null,
            "min_width": null,
            "object_fit": null,
            "object_position": null,
            "order": null,
            "overflow": null,
            "overflow_x": null,
            "overflow_y": null,
            "padding": null,
            "right": null,
            "top": null,
            "visibility": null,
            "width": null
          }
        },
        "fb9993e69b9f462cb160e16649759622": {
          "model_module": "@jupyter-widgets/controls",
          "model_name": "ProgressStyleModel",
          "model_module_version": "1.5.0",
          "state": {
            "_model_module": "@jupyter-widgets/controls",
            "_model_module_version": "1.5.0",
            "_model_name": "ProgressStyleModel",
            "_view_count": null,
            "_view_module": "@jupyter-widgets/base",
            "_view_module_version": "1.2.0",
            "_view_name": "StyleView",
            "bar_color": null,
            "description_width": ""
          }
        },
        "7f1dc75da5a64ac09d8c30f9d2d06e00": {
          "model_module": "@jupyter-widgets/base",
          "model_name": "LayoutModel",
          "model_module_version": "1.2.0",
          "state": {
            "_model_module": "@jupyter-widgets/base",
            "_model_module_version": "1.2.0",
            "_model_name": "LayoutModel",
            "_view_count": null,
            "_view_module": "@jupyter-widgets/base",
            "_view_module_version": "1.2.0",
            "_view_name": "LayoutView",
            "align_content": null,
            "align_items": null,
            "align_self": null,
            "border": null,
            "bottom": null,
            "display": null,
            "flex": null,
            "flex_flow": null,
            "grid_area": null,
            "grid_auto_columns": null,
            "grid_auto_flow": null,
            "grid_auto_rows": null,
            "grid_column": null,
            "grid_gap": null,
            "grid_row": null,
            "grid_template_areas": null,
            "grid_template_columns": null,
            "grid_template_rows": null,
            "height": null,
            "justify_content": null,
            "justify_items": null,
            "left": null,
            "margin": null,
            "max_height": null,
            "max_width": null,
            "min_height": null,
            "min_width": null,
            "object_fit": null,
            "object_position": null,
            "order": null,
            "overflow": null,
            "overflow_x": null,
            "overflow_y": null,
            "padding": null,
            "right": null,
            "top": null,
            "visibility": null,
            "width": null
          }
        },
        "f1861adc94904920afdfaf4b1e606224": {
          "model_module": "@jupyter-widgets/controls",
          "model_name": "DescriptionStyleModel",
          "model_module_version": "1.5.0",
          "state": {
            "_model_module": "@jupyter-widgets/controls",
            "_model_module_version": "1.5.0",
            "_model_name": "DescriptionStyleModel",
            "_view_count": null,
            "_view_module": "@jupyter-widgets/base",
            "_view_module_version": "1.2.0",
            "_view_name": "StyleView",
            "description_width": ""
          }
        },
        "55081b4378b14b0994ae42adb3e7d28d": {
          "model_module": "@jupyter-widgets/controls",
          "model_name": "HBoxModel",
          "model_module_version": "1.5.0",
          "state": {
            "_dom_classes": [],
            "_model_module": "@jupyter-widgets/controls",
            "_model_module_version": "1.5.0",
            "_model_name": "HBoxModel",
            "_view_count": null,
            "_view_module": "@jupyter-widgets/controls",
            "_view_module_version": "1.5.0",
            "_view_name": "HBoxView",
            "box_style": "",
            "children": [
              "IPY_MODEL_392e1452b4bb49c6b900717d2a703dfa",
              "IPY_MODEL_59d163f5e22b45648b3ecdb40b7a7c44",
              "IPY_MODEL_f0061e90964c4d6aac1d7722cb7269b6"
            ],
            "layout": "IPY_MODEL_b86a263a9a2d4f01917ffe7691acc886"
          }
        },
        "392e1452b4bb49c6b900717d2a703dfa": {
          "model_module": "@jupyter-widgets/controls",
          "model_name": "HTMLModel",
          "model_module_version": "1.5.0",
          "state": {
            "_dom_classes": [],
            "_model_module": "@jupyter-widgets/controls",
            "_model_module_version": "1.5.0",
            "_model_name": "HTMLModel",
            "_view_count": null,
            "_view_module": "@jupyter-widgets/controls",
            "_view_module_version": "1.5.0",
            "_view_name": "HTMLView",
            "description": "",
            "description_tooltip": null,
            "layout": "IPY_MODEL_6aee283f8c61482f952b7c42506efd60",
            "placeholder": "​",
            "style": "IPY_MODEL_80f1890f5f8b4e9e8a4332b1d802edbb",
            "value": "100%"
          }
        },
        "59d163f5e22b45648b3ecdb40b7a7c44": {
          "model_module": "@jupyter-widgets/controls",
          "model_name": "FloatProgressModel",
          "model_module_version": "1.5.0",
          "state": {
            "_dom_classes": [],
            "_model_module": "@jupyter-widgets/controls",
            "_model_module_version": "1.5.0",
            "_model_name": "FloatProgressModel",
            "_view_count": null,
            "_view_module": "@jupyter-widgets/controls",
            "_view_module_version": "1.5.0",
            "_view_name": "ProgressView",
            "bar_style": "success",
            "description": "",
            "description_tooltip": null,
            "layout": "IPY_MODEL_aa69e6cdce73490cbf5d53d2b16eb234",
            "max": 1,
            "min": 0,
            "orientation": "horizontal",
            "style": "IPY_MODEL_238af8c2e2ee45059230eda59e37cc03",
            "value": 1
          }
        },
        "f0061e90964c4d6aac1d7722cb7269b6": {
          "model_module": "@jupyter-widgets/controls",
          "model_name": "HTMLModel",
          "model_module_version": "1.5.0",
          "state": {
            "_dom_classes": [],
            "_model_module": "@jupyter-widgets/controls",
            "_model_module_version": "1.5.0",
            "_model_name": "HTMLModel",
            "_view_count": null,
            "_view_module": "@jupyter-widgets/controls",
            "_view_module_version": "1.5.0",
            "_view_name": "HTMLView",
            "description": "",
            "description_tooltip": null,
            "layout": "IPY_MODEL_f392f68c90ce4085b3733fd9b86ac146",
            "placeholder": "​",
            "style": "IPY_MODEL_4a27aef675784cc9b744218cf8eb14c5",
            "value": " 1/1 [00:00&lt;00:00, 11.49ba/s]"
          }
        },
        "b86a263a9a2d4f01917ffe7691acc886": {
          "model_module": "@jupyter-widgets/base",
          "model_name": "LayoutModel",
          "model_module_version": "1.2.0",
          "state": {
            "_model_module": "@jupyter-widgets/base",
            "_model_module_version": "1.2.0",
            "_model_name": "LayoutModel",
            "_view_count": null,
            "_view_module": "@jupyter-widgets/base",
            "_view_module_version": "1.2.0",
            "_view_name": "LayoutView",
            "align_content": null,
            "align_items": null,
            "align_self": null,
            "border": null,
            "bottom": null,
            "display": null,
            "flex": null,
            "flex_flow": null,
            "grid_area": null,
            "grid_auto_columns": null,
            "grid_auto_flow": null,
            "grid_auto_rows": null,
            "grid_column": null,
            "grid_gap": null,
            "grid_row": null,
            "grid_template_areas": null,
            "grid_template_columns": null,
            "grid_template_rows": null,
            "height": null,
            "justify_content": null,
            "justify_items": null,
            "left": null,
            "margin": null,
            "max_height": null,
            "max_width": null,
            "min_height": null,
            "min_width": null,
            "object_fit": null,
            "object_position": null,
            "order": null,
            "overflow": null,
            "overflow_x": null,
            "overflow_y": null,
            "padding": null,
            "right": null,
            "top": null,
            "visibility": null,
            "width": null
          }
        },
        "6aee283f8c61482f952b7c42506efd60": {
          "model_module": "@jupyter-widgets/base",
          "model_name": "LayoutModel",
          "model_module_version": "1.2.0",
          "state": {
            "_model_module": "@jupyter-widgets/base",
            "_model_module_version": "1.2.0",
            "_model_name": "LayoutModel",
            "_view_count": null,
            "_view_module": "@jupyter-widgets/base",
            "_view_module_version": "1.2.0",
            "_view_name": "LayoutView",
            "align_content": null,
            "align_items": null,
            "align_self": null,
            "border": null,
            "bottom": null,
            "display": null,
            "flex": null,
            "flex_flow": null,
            "grid_area": null,
            "grid_auto_columns": null,
            "grid_auto_flow": null,
            "grid_auto_rows": null,
            "grid_column": null,
            "grid_gap": null,
            "grid_row": null,
            "grid_template_areas": null,
            "grid_template_columns": null,
            "grid_template_rows": null,
            "height": null,
            "justify_content": null,
            "justify_items": null,
            "left": null,
            "margin": null,
            "max_height": null,
            "max_width": null,
            "min_height": null,
            "min_width": null,
            "object_fit": null,
            "object_position": null,
            "order": null,
            "overflow": null,
            "overflow_x": null,
            "overflow_y": null,
            "padding": null,
            "right": null,
            "top": null,
            "visibility": null,
            "width": null
          }
        },
        "80f1890f5f8b4e9e8a4332b1d802edbb": {
          "model_module": "@jupyter-widgets/controls",
          "model_name": "DescriptionStyleModel",
          "model_module_version": "1.5.0",
          "state": {
            "_model_module": "@jupyter-widgets/controls",
            "_model_module_version": "1.5.0",
            "_model_name": "DescriptionStyleModel",
            "_view_count": null,
            "_view_module": "@jupyter-widgets/base",
            "_view_module_version": "1.2.0",
            "_view_name": "StyleView",
            "description_width": ""
          }
        },
        "aa69e6cdce73490cbf5d53d2b16eb234": {
          "model_module": "@jupyter-widgets/base",
          "model_name": "LayoutModel",
          "model_module_version": "1.2.0",
          "state": {
            "_model_module": "@jupyter-widgets/base",
            "_model_module_version": "1.2.0",
            "_model_name": "LayoutModel",
            "_view_count": null,
            "_view_module": "@jupyter-widgets/base",
            "_view_module_version": "1.2.0",
            "_view_name": "LayoutView",
            "align_content": null,
            "align_items": null,
            "align_self": null,
            "border": null,
            "bottom": null,
            "display": null,
            "flex": null,
            "flex_flow": null,
            "grid_area": null,
            "grid_auto_columns": null,
            "grid_auto_flow": null,
            "grid_auto_rows": null,
            "grid_column": null,
            "grid_gap": null,
            "grid_row": null,
            "grid_template_areas": null,
            "grid_template_columns": null,
            "grid_template_rows": null,
            "height": null,
            "justify_content": null,
            "justify_items": null,
            "left": null,
            "margin": null,
            "max_height": null,
            "max_width": null,
            "min_height": null,
            "min_width": null,
            "object_fit": null,
            "object_position": null,
            "order": null,
            "overflow": null,
            "overflow_x": null,
            "overflow_y": null,
            "padding": null,
            "right": null,
            "top": null,
            "visibility": null,
            "width": null
          }
        },
        "238af8c2e2ee45059230eda59e37cc03": {
          "model_module": "@jupyter-widgets/controls",
          "model_name": "ProgressStyleModel",
          "model_module_version": "1.5.0",
          "state": {
            "_model_module": "@jupyter-widgets/controls",
            "_model_module_version": "1.5.0",
            "_model_name": "ProgressStyleModel",
            "_view_count": null,
            "_view_module": "@jupyter-widgets/base",
            "_view_module_version": "1.2.0",
            "_view_name": "StyleView",
            "bar_color": null,
            "description_width": ""
          }
        },
        "f392f68c90ce4085b3733fd9b86ac146": {
          "model_module": "@jupyter-widgets/base",
          "model_name": "LayoutModel",
          "model_module_version": "1.2.0",
          "state": {
            "_model_module": "@jupyter-widgets/base",
            "_model_module_version": "1.2.0",
            "_model_name": "LayoutModel",
            "_view_count": null,
            "_view_module": "@jupyter-widgets/base",
            "_view_module_version": "1.2.0",
            "_view_name": "LayoutView",
            "align_content": null,
            "align_items": null,
            "align_self": null,
            "border": null,
            "bottom": null,
            "display": null,
            "flex": null,
            "flex_flow": null,
            "grid_area": null,
            "grid_auto_columns": null,
            "grid_auto_flow": null,
            "grid_auto_rows": null,
            "grid_column": null,
            "grid_gap": null,
            "grid_row": null,
            "grid_template_areas": null,
            "grid_template_columns": null,
            "grid_template_rows": null,
            "height": null,
            "justify_content": null,
            "justify_items": null,
            "left": null,
            "margin": null,
            "max_height": null,
            "max_width": null,
            "min_height": null,
            "min_width": null,
            "object_fit": null,
            "object_position": null,
            "order": null,
            "overflow": null,
            "overflow_x": null,
            "overflow_y": null,
            "padding": null,
            "right": null,
            "top": null,
            "visibility": null,
            "width": null
          }
        },
        "4a27aef675784cc9b744218cf8eb14c5": {
          "model_module": "@jupyter-widgets/controls",
          "model_name": "DescriptionStyleModel",
          "model_module_version": "1.5.0",
          "state": {
            "_model_module": "@jupyter-widgets/controls",
            "_model_module_version": "1.5.0",
            "_model_name": "DescriptionStyleModel",
            "_view_count": null,
            "_view_module": "@jupyter-widgets/base",
            "_view_module_version": "1.2.0",
            "_view_name": "StyleView",
            "description_width": ""
          }
        },
        "bfeee5bd3fd6473d81eb7e2ac6df4ba2": {
          "model_module": "@jupyter-widgets/controls",
          "model_name": "HBoxModel",
          "model_module_version": "1.5.0",
          "state": {
            "_dom_classes": [],
            "_model_module": "@jupyter-widgets/controls",
            "_model_module_version": "1.5.0",
            "_model_name": "HBoxModel",
            "_view_count": null,
            "_view_module": "@jupyter-widgets/controls",
            "_view_module_version": "1.5.0",
            "_view_name": "HBoxView",
            "box_style": "",
            "children": [
              "IPY_MODEL_f84a6dfae6cb4863bf6f03c9e2ea14d2",
              "IPY_MODEL_efc5d40175a24d9386fe99efb0318ea3",
              "IPY_MODEL_de143b78ec6545efb049eed357b27d57"
            ],
            "layout": "IPY_MODEL_f9dae5ff42c34b1f961c4a78a2d4e12f"
          }
        },
        "f84a6dfae6cb4863bf6f03c9e2ea14d2": {
          "model_module": "@jupyter-widgets/controls",
          "model_name": "HTMLModel",
          "model_module_version": "1.5.0",
          "state": {
            "_dom_classes": [],
            "_model_module": "@jupyter-widgets/controls",
            "_model_module_version": "1.5.0",
            "_model_name": "HTMLModel",
            "_view_count": null,
            "_view_module": "@jupyter-widgets/controls",
            "_view_module_version": "1.5.0",
            "_view_name": "HTMLView",
            "description": "",
            "description_tooltip": null,
            "layout": "IPY_MODEL_b6970fbed0ed49efaac62e828027c452",
            "placeholder": "​",
            "style": "IPY_MODEL_971ec943acad4adcb46aa19edb9cc6f1",
            "value": "Downloading pytorch_model.bin: 100%"
          }
        },
        "efc5d40175a24d9386fe99efb0318ea3": {
          "model_module": "@jupyter-widgets/controls",
          "model_name": "FloatProgressModel",
          "model_module_version": "1.5.0",
          "state": {
            "_dom_classes": [],
            "_model_module": "@jupyter-widgets/controls",
            "_model_module_version": "1.5.0",
            "_model_name": "FloatProgressModel",
            "_view_count": null,
            "_view_module": "@jupyter-widgets/controls",
            "_view_module_version": "1.5.0",
            "_view_name": "ProgressView",
            "bar_style": "success",
            "description": "",
            "description_tooltip": null,
            "layout": "IPY_MODEL_5700e6f6cfc740f2b29fc07bc0635e1d",
            "max": 1200794589,
            "min": 0,
            "orientation": "horizontal",
            "style": "IPY_MODEL_2008ac49094a4420baa7b4451822a735",
            "value": 1200794589
          }
        },
        "de143b78ec6545efb049eed357b27d57": {
          "model_module": "@jupyter-widgets/controls",
          "model_name": "HTMLModel",
          "model_module_version": "1.5.0",
          "state": {
            "_dom_classes": [],
            "_model_module": "@jupyter-widgets/controls",
            "_model_module_version": "1.5.0",
            "_model_name": "HTMLModel",
            "_view_count": null,
            "_view_module": "@jupyter-widgets/controls",
            "_view_module_version": "1.5.0",
            "_view_name": "HTMLView",
            "description": "",
            "description_tooltip": null,
            "layout": "IPY_MODEL_c062133791344fce95bb5754565b4752",
            "placeholder": "​",
            "style": "IPY_MODEL_eb965e2bc4d4415d80b98521279dcc00",
            "value": " 1.12G/1.12G [00:23&lt;00:00, 51.2MB/s]"
          }
        },
        "f9dae5ff42c34b1f961c4a78a2d4e12f": {
          "model_module": "@jupyter-widgets/base",
          "model_name": "LayoutModel",
          "model_module_version": "1.2.0",
          "state": {
            "_model_module": "@jupyter-widgets/base",
            "_model_module_version": "1.2.0",
            "_model_name": "LayoutModel",
            "_view_count": null,
            "_view_module": "@jupyter-widgets/base",
            "_view_module_version": "1.2.0",
            "_view_name": "LayoutView",
            "align_content": null,
            "align_items": null,
            "align_self": null,
            "border": null,
            "bottom": null,
            "display": null,
            "flex": null,
            "flex_flow": null,
            "grid_area": null,
            "grid_auto_columns": null,
            "grid_auto_flow": null,
            "grid_auto_rows": null,
            "grid_column": null,
            "grid_gap": null,
            "grid_row": null,
            "grid_template_areas": null,
            "grid_template_columns": null,
            "grid_template_rows": null,
            "height": null,
            "justify_content": null,
            "justify_items": null,
            "left": null,
            "margin": null,
            "max_height": null,
            "max_width": null,
            "min_height": null,
            "min_width": null,
            "object_fit": null,
            "object_position": null,
            "order": null,
            "overflow": null,
            "overflow_x": null,
            "overflow_y": null,
            "padding": null,
            "right": null,
            "top": null,
            "visibility": null,
            "width": null
          }
        },
        "b6970fbed0ed49efaac62e828027c452": {
          "model_module": "@jupyter-widgets/base",
          "model_name": "LayoutModel",
          "model_module_version": "1.2.0",
          "state": {
            "_model_module": "@jupyter-widgets/base",
            "_model_module_version": "1.2.0",
            "_model_name": "LayoutModel",
            "_view_count": null,
            "_view_module": "@jupyter-widgets/base",
            "_view_module_version": "1.2.0",
            "_view_name": "LayoutView",
            "align_content": null,
            "align_items": null,
            "align_self": null,
            "border": null,
            "bottom": null,
            "display": null,
            "flex": null,
            "flex_flow": null,
            "grid_area": null,
            "grid_auto_columns": null,
            "grid_auto_flow": null,
            "grid_auto_rows": null,
            "grid_column": null,
            "grid_gap": null,
            "grid_row": null,
            "grid_template_areas": null,
            "grid_template_columns": null,
            "grid_template_rows": null,
            "height": null,
            "justify_content": null,
            "justify_items": null,
            "left": null,
            "margin": null,
            "max_height": null,
            "max_width": null,
            "min_height": null,
            "min_width": null,
            "object_fit": null,
            "object_position": null,
            "order": null,
            "overflow": null,
            "overflow_x": null,
            "overflow_y": null,
            "padding": null,
            "right": null,
            "top": null,
            "visibility": null,
            "width": null
          }
        },
        "971ec943acad4adcb46aa19edb9cc6f1": {
          "model_module": "@jupyter-widgets/controls",
          "model_name": "DescriptionStyleModel",
          "model_module_version": "1.5.0",
          "state": {
            "_model_module": "@jupyter-widgets/controls",
            "_model_module_version": "1.5.0",
            "_model_name": "DescriptionStyleModel",
            "_view_count": null,
            "_view_module": "@jupyter-widgets/base",
            "_view_module_version": "1.2.0",
            "_view_name": "StyleView",
            "description_width": ""
          }
        },
        "5700e6f6cfc740f2b29fc07bc0635e1d": {
          "model_module": "@jupyter-widgets/base",
          "model_name": "LayoutModel",
          "model_module_version": "1.2.0",
          "state": {
            "_model_module": "@jupyter-widgets/base",
            "_model_module_version": "1.2.0",
            "_model_name": "LayoutModel",
            "_view_count": null,
            "_view_module": "@jupyter-widgets/base",
            "_view_module_version": "1.2.0",
            "_view_name": "LayoutView",
            "align_content": null,
            "align_items": null,
            "align_self": null,
            "border": null,
            "bottom": null,
            "display": null,
            "flex": null,
            "flex_flow": null,
            "grid_area": null,
            "grid_auto_columns": null,
            "grid_auto_flow": null,
            "grid_auto_rows": null,
            "grid_column": null,
            "grid_gap": null,
            "grid_row": null,
            "grid_template_areas": null,
            "grid_template_columns": null,
            "grid_template_rows": null,
            "height": null,
            "justify_content": null,
            "justify_items": null,
            "left": null,
            "margin": null,
            "max_height": null,
            "max_width": null,
            "min_height": null,
            "min_width": null,
            "object_fit": null,
            "object_position": null,
            "order": null,
            "overflow": null,
            "overflow_x": null,
            "overflow_y": null,
            "padding": null,
            "right": null,
            "top": null,
            "visibility": null,
            "width": null
          }
        },
        "2008ac49094a4420baa7b4451822a735": {
          "model_module": "@jupyter-widgets/controls",
          "model_name": "ProgressStyleModel",
          "model_module_version": "1.5.0",
          "state": {
            "_model_module": "@jupyter-widgets/controls",
            "_model_module_version": "1.5.0",
            "_model_name": "ProgressStyleModel",
            "_view_count": null,
            "_view_module": "@jupyter-widgets/base",
            "_view_module_version": "1.2.0",
            "_view_name": "StyleView",
            "bar_color": null,
            "description_width": ""
          }
        },
        "c062133791344fce95bb5754565b4752": {
          "model_module": "@jupyter-widgets/base",
          "model_name": "LayoutModel",
          "model_module_version": "1.2.0",
          "state": {
            "_model_module": "@jupyter-widgets/base",
            "_model_module_version": "1.2.0",
            "_model_name": "LayoutModel",
            "_view_count": null,
            "_view_module": "@jupyter-widgets/base",
            "_view_module_version": "1.2.0",
            "_view_name": "LayoutView",
            "align_content": null,
            "align_items": null,
            "align_self": null,
            "border": null,
            "bottom": null,
            "display": null,
            "flex": null,
            "flex_flow": null,
            "grid_area": null,
            "grid_auto_columns": null,
            "grid_auto_flow": null,
            "grid_auto_rows": null,
            "grid_column": null,
            "grid_gap": null,
            "grid_row": null,
            "grid_template_areas": null,
            "grid_template_columns": null,
            "grid_template_rows": null,
            "height": null,
            "justify_content": null,
            "justify_items": null,
            "left": null,
            "margin": null,
            "max_height": null,
            "max_width": null,
            "min_height": null,
            "min_width": null,
            "object_fit": null,
            "object_position": null,
            "order": null,
            "overflow": null,
            "overflow_x": null,
            "overflow_y": null,
            "padding": null,
            "right": null,
            "top": null,
            "visibility": null,
            "width": null
          }
        },
        "eb965e2bc4d4415d80b98521279dcc00": {
          "model_module": "@jupyter-widgets/controls",
          "model_name": "DescriptionStyleModel",
          "model_module_version": "1.5.0",
          "state": {
            "_model_module": "@jupyter-widgets/controls",
            "_model_module_version": "1.5.0",
            "_model_name": "DescriptionStyleModel",
            "_view_count": null,
            "_view_module": "@jupyter-widgets/base",
            "_view_module_version": "1.2.0",
            "_view_name": "StyleView",
            "description_width": ""
          }
        },
        "07323207604b4ae0ac7a1a63e69e0d51": {
          "model_module": "@jupyter-widgets/controls",
          "model_name": "VBoxModel",
          "model_module_version": "1.5.0",
          "state": {
            "_dom_classes": [],
            "_model_module": "@jupyter-widgets/controls",
            "_model_module_version": "1.5.0",
            "_model_name": "VBoxModel",
            "_view_count": null,
            "_view_module": "@jupyter-widgets/controls",
            "_view_module_version": "1.5.0",
            "_view_name": "VBoxView",
            "box_style": "",
            "children": [
              "IPY_MODEL_b42242e466ad45bfb588230c71feff17",
              "IPY_MODEL_88d24799960b49089facf57576e26082",
              "IPY_MODEL_9b8f484df995473aab34a47f9580ebcd",
              "IPY_MODEL_385feda3d7c942ddbc828f2d29b5a098"
            ],
            "layout": "IPY_MODEL_8de8ad89b0254108b1e84ad061d4c14f"
          }
        },
        "b42242e466ad45bfb588230c71feff17": {
          "model_module": "@jupyter-widgets/controls",
          "model_name": "HTMLModel",
          "model_module_version": "1.5.0",
          "state": {
            "_dom_classes": [],
            "_model_module": "@jupyter-widgets/controls",
            "_model_module_version": "1.5.0",
            "_model_name": "HTMLModel",
            "_view_count": null,
            "_view_module": "@jupyter-widgets/controls",
            "_view_module_version": "1.5.0",
            "_view_name": "HTMLView",
            "description": "",
            "description_tooltip": null,
            "layout": "IPY_MODEL_e266778411d849b09da645c6e8f25677",
            "placeholder": "​",
            "style": "IPY_MODEL_937525c5fdbb4142b6cc1e2fa8cb8276",
            "value": "<center> <img\nsrc=https://huggingface.co/front/assets/huggingface_logo-noborder.svg\nalt='Hugging Face'> <br> Copy a token from <a\nhref=\"https://huggingface.co/settings/tokens\" target=\"_blank\">your Hugging Face\ntokens page</a> and paste it below. <br> Immediately click login after copying\nyour token or it might be stored in plain text in this notebook file. </center>"
          }
        },
        "88d24799960b49089facf57576e26082": {
          "model_module": "@jupyter-widgets/controls",
          "model_name": "PasswordModel",
          "model_module_version": "1.5.0",
          "state": {
            "_dom_classes": [],
            "_model_module": "@jupyter-widgets/controls",
            "_model_module_version": "1.5.0",
            "_model_name": "PasswordModel",
            "_view_count": null,
            "_view_module": "@jupyter-widgets/controls",
            "_view_module_version": "1.5.0",
            "_view_name": "PasswordView",
            "continuous_update": true,
            "description": "Token:",
            "description_tooltip": null,
            "disabled": false,
            "layout": "IPY_MODEL_da2f349470234973a3d18d62b61b5c51",
            "placeholder": "​",
            "style": "IPY_MODEL_a1b155a27a694bb596015d6b31c5ad1a",
            "value": ""
          }
        },
        "9b8f484df995473aab34a47f9580ebcd": {
          "model_module": "@jupyter-widgets/controls",
          "model_name": "ButtonModel",
          "model_module_version": "1.5.0",
          "state": {
            "_dom_classes": [],
            "_model_module": "@jupyter-widgets/controls",
            "_model_module_version": "1.5.0",
            "_model_name": "ButtonModel",
            "_view_count": null,
            "_view_module": "@jupyter-widgets/controls",
            "_view_module_version": "1.5.0",
            "_view_name": "ButtonView",
            "button_style": "",
            "description": "Login",
            "disabled": false,
            "icon": "",
            "layout": "IPY_MODEL_370214d9b735428188a5e3ca98012231",
            "style": "IPY_MODEL_830b94d65b9b4237b35063e1974bdeca",
            "tooltip": ""
          }
        },
        "385feda3d7c942ddbc828f2d29b5a098": {
          "model_module": "@jupyter-widgets/controls",
          "model_name": "HTMLModel",
          "model_module_version": "1.5.0",
          "state": {
            "_dom_classes": [],
            "_model_module": "@jupyter-widgets/controls",
            "_model_module_version": "1.5.0",
            "_model_name": "HTMLModel",
            "_view_count": null,
            "_view_module": "@jupyter-widgets/controls",
            "_view_module_version": "1.5.0",
            "_view_name": "HTMLView",
            "description": "",
            "description_tooltip": null,
            "layout": "IPY_MODEL_28c0a9d87bb34d6cb4220155979a6302",
            "placeholder": "​",
            "style": "IPY_MODEL_942f2bfc8f764b3d92528c61748a6006",
            "value": "\n<b>Pro Tip:</b> If you don't already have one, you can create a dedicated\n'notebooks' token with 'write' access, that you can then easily reuse for all\nnotebooks. </center>"
          }
        },
        "8de8ad89b0254108b1e84ad061d4c14f": {
          "model_module": "@jupyter-widgets/base",
          "model_name": "LayoutModel",
          "model_module_version": "1.2.0",
          "state": {
            "_model_module": "@jupyter-widgets/base",
            "_model_module_version": "1.2.0",
            "_model_name": "LayoutModel",
            "_view_count": null,
            "_view_module": "@jupyter-widgets/base",
            "_view_module_version": "1.2.0",
            "_view_name": "LayoutView",
            "align_content": null,
            "align_items": "center",
            "align_self": null,
            "border": null,
            "bottom": null,
            "display": "flex",
            "flex": null,
            "flex_flow": "column",
            "grid_area": null,
            "grid_auto_columns": null,
            "grid_auto_flow": null,
            "grid_auto_rows": null,
            "grid_column": null,
            "grid_gap": null,
            "grid_row": null,
            "grid_template_areas": null,
            "grid_template_columns": null,
            "grid_template_rows": null,
            "height": null,
            "justify_content": null,
            "justify_items": null,
            "left": null,
            "margin": null,
            "max_height": null,
            "max_width": null,
            "min_height": null,
            "min_width": null,
            "object_fit": null,
            "object_position": null,
            "order": null,
            "overflow": null,
            "overflow_x": null,
            "overflow_y": null,
            "padding": null,
            "right": null,
            "top": null,
            "visibility": null,
            "width": "50%"
          }
        },
        "e266778411d849b09da645c6e8f25677": {
          "model_module": "@jupyter-widgets/base",
          "model_name": "LayoutModel",
          "model_module_version": "1.2.0",
          "state": {
            "_model_module": "@jupyter-widgets/base",
            "_model_module_version": "1.2.0",
            "_model_name": "LayoutModel",
            "_view_count": null,
            "_view_module": "@jupyter-widgets/base",
            "_view_module_version": "1.2.0",
            "_view_name": "LayoutView",
            "align_content": null,
            "align_items": null,
            "align_self": null,
            "border": null,
            "bottom": null,
            "display": null,
            "flex": null,
            "flex_flow": null,
            "grid_area": null,
            "grid_auto_columns": null,
            "grid_auto_flow": null,
            "grid_auto_rows": null,
            "grid_column": null,
            "grid_gap": null,
            "grid_row": null,
            "grid_template_areas": null,
            "grid_template_columns": null,
            "grid_template_rows": null,
            "height": null,
            "justify_content": null,
            "justify_items": null,
            "left": null,
            "margin": null,
            "max_height": null,
            "max_width": null,
            "min_height": null,
            "min_width": null,
            "object_fit": null,
            "object_position": null,
            "order": null,
            "overflow": null,
            "overflow_x": null,
            "overflow_y": null,
            "padding": null,
            "right": null,
            "top": null,
            "visibility": null,
            "width": null
          }
        },
        "937525c5fdbb4142b6cc1e2fa8cb8276": {
          "model_module": "@jupyter-widgets/controls",
          "model_name": "DescriptionStyleModel",
          "model_module_version": "1.5.0",
          "state": {
            "_model_module": "@jupyter-widgets/controls",
            "_model_module_version": "1.5.0",
            "_model_name": "DescriptionStyleModel",
            "_view_count": null,
            "_view_module": "@jupyter-widgets/base",
            "_view_module_version": "1.2.0",
            "_view_name": "StyleView",
            "description_width": ""
          }
        },
        "da2f349470234973a3d18d62b61b5c51": {
          "model_module": "@jupyter-widgets/base",
          "model_name": "LayoutModel",
          "model_module_version": "1.2.0",
          "state": {
            "_model_module": "@jupyter-widgets/base",
            "_model_module_version": "1.2.0",
            "_model_name": "LayoutModel",
            "_view_count": null,
            "_view_module": "@jupyter-widgets/base",
            "_view_module_version": "1.2.0",
            "_view_name": "LayoutView",
            "align_content": null,
            "align_items": null,
            "align_self": null,
            "border": null,
            "bottom": null,
            "display": null,
            "flex": null,
            "flex_flow": null,
            "grid_area": null,
            "grid_auto_columns": null,
            "grid_auto_flow": null,
            "grid_auto_rows": null,
            "grid_column": null,
            "grid_gap": null,
            "grid_row": null,
            "grid_template_areas": null,
            "grid_template_columns": null,
            "grid_template_rows": null,
            "height": null,
            "justify_content": null,
            "justify_items": null,
            "left": null,
            "margin": null,
            "max_height": null,
            "max_width": null,
            "min_height": null,
            "min_width": null,
            "object_fit": null,
            "object_position": null,
            "order": null,
            "overflow": null,
            "overflow_x": null,
            "overflow_y": null,
            "padding": null,
            "right": null,
            "top": null,
            "visibility": null,
            "width": null
          }
        },
        "a1b155a27a694bb596015d6b31c5ad1a": {
          "model_module": "@jupyter-widgets/controls",
          "model_name": "DescriptionStyleModel",
          "model_module_version": "1.5.0",
          "state": {
            "_model_module": "@jupyter-widgets/controls",
            "_model_module_version": "1.5.0",
            "_model_name": "DescriptionStyleModel",
            "_view_count": null,
            "_view_module": "@jupyter-widgets/base",
            "_view_module_version": "1.2.0",
            "_view_name": "StyleView",
            "description_width": ""
          }
        },
        "370214d9b735428188a5e3ca98012231": {
          "model_module": "@jupyter-widgets/base",
          "model_name": "LayoutModel",
          "model_module_version": "1.2.0",
          "state": {
            "_model_module": "@jupyter-widgets/base",
            "_model_module_version": "1.2.0",
            "_model_name": "LayoutModel",
            "_view_count": null,
            "_view_module": "@jupyter-widgets/base",
            "_view_module_version": "1.2.0",
            "_view_name": "LayoutView",
            "align_content": null,
            "align_items": null,
            "align_self": null,
            "border": null,
            "bottom": null,
            "display": null,
            "flex": null,
            "flex_flow": null,
            "grid_area": null,
            "grid_auto_columns": null,
            "grid_auto_flow": null,
            "grid_auto_rows": null,
            "grid_column": null,
            "grid_gap": null,
            "grid_row": null,
            "grid_template_areas": null,
            "grid_template_columns": null,
            "grid_template_rows": null,
            "height": null,
            "justify_content": null,
            "justify_items": null,
            "left": null,
            "margin": null,
            "max_height": null,
            "max_width": null,
            "min_height": null,
            "min_width": null,
            "object_fit": null,
            "object_position": null,
            "order": null,
            "overflow": null,
            "overflow_x": null,
            "overflow_y": null,
            "padding": null,
            "right": null,
            "top": null,
            "visibility": null,
            "width": null
          }
        },
        "830b94d65b9b4237b35063e1974bdeca": {
          "model_module": "@jupyter-widgets/controls",
          "model_name": "ButtonStyleModel",
          "model_module_version": "1.5.0",
          "state": {
            "_model_module": "@jupyter-widgets/controls",
            "_model_module_version": "1.5.0",
            "_model_name": "ButtonStyleModel",
            "_view_count": null,
            "_view_module": "@jupyter-widgets/base",
            "_view_module_version": "1.2.0",
            "_view_name": "StyleView",
            "button_color": null,
            "font_weight": ""
          }
        },
        "28c0a9d87bb34d6cb4220155979a6302": {
          "model_module": "@jupyter-widgets/base",
          "model_name": "LayoutModel",
          "model_module_version": "1.2.0",
          "state": {
            "_model_module": "@jupyter-widgets/base",
            "_model_module_version": "1.2.0",
            "_model_name": "LayoutModel",
            "_view_count": null,
            "_view_module": "@jupyter-widgets/base",
            "_view_module_version": "1.2.0",
            "_view_name": "LayoutView",
            "align_content": null,
            "align_items": null,
            "align_self": null,
            "border": null,
            "bottom": null,
            "display": null,
            "flex": null,
            "flex_flow": null,
            "grid_area": null,
            "grid_auto_columns": null,
            "grid_auto_flow": null,
            "grid_auto_rows": null,
            "grid_column": null,
            "grid_gap": null,
            "grid_row": null,
            "grid_template_areas": null,
            "grid_template_columns": null,
            "grid_template_rows": null,
            "height": null,
            "justify_content": null,
            "justify_items": null,
            "left": null,
            "margin": null,
            "max_height": null,
            "max_width": null,
            "min_height": null,
            "min_width": null,
            "object_fit": null,
            "object_position": null,
            "order": null,
            "overflow": null,
            "overflow_x": null,
            "overflow_y": null,
            "padding": null,
            "right": null,
            "top": null,
            "visibility": null,
            "width": null
          }
        },
        "942f2bfc8f764b3d92528c61748a6006": {
          "model_module": "@jupyter-widgets/controls",
          "model_name": "DescriptionStyleModel",
          "model_module_version": "1.5.0",
          "state": {
            "_model_module": "@jupyter-widgets/controls",
            "_model_module_version": "1.5.0",
            "_model_name": "DescriptionStyleModel",
            "_view_count": null,
            "_view_module": "@jupyter-widgets/base",
            "_view_module_version": "1.2.0",
            "_view_name": "StyleView",
            "description_width": ""
          }
        }
      }
    },
    "accelerator": "GPU"
  },
  "nbformat": 4,
  "nbformat_minor": 0
}